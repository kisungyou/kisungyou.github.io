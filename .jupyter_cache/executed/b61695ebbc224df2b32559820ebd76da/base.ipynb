{
 "cells": [
  {
   "cell_type": "code",
   "execution_count": 1,
   "id": "da0847a2",
   "metadata": {},
   "outputs": [
    {
     "name": "stdout",
     "output_type": "stream",
     "text": [
      "{\"/Users/kyou/miniconda3/lib/python3.11/importlib/_bootstrap.py\": 1688564785.7364845, \"/Users/kyou/miniconda3/lib/python3.11/importlib/_bootstrap_external.py\": 1688564785.7473316, \"/Users/kyou/miniconda3/lib/python3.11/zipimport.py\": 1688564782.2649462, \"/Users/kyou/miniconda3/lib/python3.11/codecs.py\": 1688564781.0550086, \"/Users/kyou/miniconda3/lib/python3.11/encodings/aliases.py\": 1688564783.6747382, \"/Users/kyou/miniconda3/lib/python3.11/encodings/__init__.py\": 1688564783.6672077, \"/Users/kyou/miniconda3/lib/python3.11/encodings/utf_8.py\": 1688564784.717895, \"/Users/kyou/miniconda3/lib/python3.11/abc.py\": 1688564780.8473778, \"/Users/kyou/miniconda3/lib/python3.11/io.py\": 1688564781.4512396, \"/Users/kyou/miniconda3/lib/python3.11/stat.py\": 1688564781.9388707, \"/Users/kyou/miniconda3/lib/python3.11/_collections_abc.py\": 1688564780.7103467, \"/Users/kyou/miniconda3/lib/python3.11/genericpath.py\": 1688564781.304632, \"/Users/kyou/miniconda3/lib/python3.11/posixpath.py\": 1688564781.6445096, \"/Users/kyou/miniconda3/lib/python3.11/os.py\": 1688564781.5656471, \"/Users/kyou/miniconda3/lib/python3.11/_sitebuiltins.py\": 1688564780.802586, \"/Users/kyou/miniconda3/lib/python3.11/site-packages/_distutils_hack/__init__.py\": 1684525084.0, \"/Users/kyou/miniconda3/lib/python3.11/types.py\": 1688564782.1614683, \"/Users/kyou/miniconda3/lib/python3.11/warnings.py\": 1688564782.2002087, \"/Users/kyou/miniconda3/lib/python3.11/importlib/__init__.py\": 1688564785.7206986, \"/Users/kyou/miniconda3/lib/python3.11/importlib/_abc.py\": 1688564785.7286146, \"/Users/kyou/miniconda3/lib/python3.11/keyword.py\": 1688564781.4654498, \"/Users/kyou/miniconda3/lib/python3.11/operator.py\": 1688564781.5512316, \"/Users/kyou/miniconda3/lib/python3.11/reprlib.py\": 1688564781.739155, \"/Users/kyou/miniconda3/lib/python3.11/collections/__init__.py\": 1688564782.6032734, \"/Users/kyou/miniconda3/lib/python3.11/functools.py\": 1688564781.293975, \"/Users/kyou/miniconda3/lib/python3.11/contextlib.py\": 1688564781.1130228, \"/Users/kyou/miniconda3/lib/python3.11/importlib/util.py\": 1688564785.7878497, \"/Users/kyou/miniconda3/lib/python3.11/importlib/machinery.py\": 1688564785.7638364, \"/Users/kyou/miniconda3/lib/python3.11/site.py\": 1688564781.840705, \"/Users/kyou/miniconda3/lib/python3.11/runpy.py\": 1688564781.758362, \"/Users/kyou/miniconda3/lib/python3.11/enum.py\": 1688564781.2334487, \"/Users/kyou/miniconda3/lib/python3.11/re/_constants.py\": 1688564787.0594327, \"/Users/kyou/miniconda3/lib/python3.11/re/_parser.py\": 1688564787.0670338, \"/Users/kyou/miniconda3/lib/python3.11/re/_casefix.py\": 1688564787.0446508, \"/Users/kyou/miniconda3/lib/python3.11/re/_compiler.py\": 1688564787.0522323, \"/Users/kyou/miniconda3/lib/python3.11/copyreg.py\": 1688564781.14229, \"/Users/kyou/miniconda3/lib/python3.11/re/__init__.py\": 1688564787.0369718, \"/Users/kyou/miniconda3/lib/python3.11/collections/abc.py\": 1688564782.6115625, \"/Users/kyou/miniconda3/lib/python3.11/lib-dynload/_typing.cpython-311-darwin.so\": 1688564833.0040667, \"/Users/kyou/miniconda3/lib/python3.11/typing.py\": 1688564782.1717854, \"/Users/kyou/miniconda3/lib/python3.11/site-packages/ipykernel/_version.py\": 1691121774.0706773, \"/Users/kyou/miniconda3/lib/python3.11/lib-dynload/_json.cpython-311-darwin.so\": 1688564829.8332176, \"/Users/kyou/miniconda3/lib/python3.11/json/scanner.py\": 1688564785.9845195, \"/Users/kyou/miniconda3/lib/python3.11/json/decoder.py\": 1688564785.9683976, \"/Users/kyou/miniconda3/lib/python3.11/json/encoder.py\": 1688564785.975472, \"/Users/kyou/miniconda3/lib/python3.11/json/__init__.py\": 1688564785.9611251, \"/Users/kyou/miniconda3/lib/python3.11/locale.py\": 1688564781.476604, \"/Users/kyou/miniconda3/lib/python3.11/signal.py\": 1688564781.829923, \"/Users/kyou/miniconda3/lib/python3.11/_weakrefset.py\": 1688564780.8351943, \"/Users/kyou/miniconda3/lib/python3.11/threading.py\": 1688564782.0779705, \"/Users/kyou/miniconda3/lib/python3.11/lib-dynload/fcntl.cpython-311-darwin.so\": 1688564829.2267494, \"/Users/kyou/miniconda3/lib/python3.11/lib-dynload/_posixsubprocess.cpython-311-darwin.so\": 1688564828.981542, \"/Users/kyou/miniconda3/lib/python3.11/lib-dynload/select.cpython-311-darwin.so\": 1688564827.6222274, \"/Users/kyou/miniconda3/lib/python3.11/lib-dynload/math.cpython-311-darwin.so\": 1688564826.8643095, \"/Users/kyou/miniconda3/lib/python3.11/selectors.py\": 1688564781.79046, \"/Users/kyou/miniconda3/lib/python3.11/subprocess.py\": 1688564781.9890022, \"/Users/kyou/miniconda3/lib/python3.11/site-packages/jupyter_client/_version.py\": 1677914246.0, \"/Users/kyou/miniconda3/lib/python3.11/ast.py\": 1688564780.8937325, \"/Users/kyou/miniconda3/lib/python3.11/lib-dynload/_opcode.cpython-311-darwin.so\": 1688564831.5296404, \"/Users/kyou/miniconda3/lib/python3.11/opcode.py\": 1688564781.544104, \"/Users/kyou/miniconda3/lib/python3.11/dis.py\": 1688564781.2138305, \"/Users/kyou/miniconda3/lib/python3.11/token.py\": 1688564782.098119, \"/Users/kyou/miniconda3/lib/python3.11/tokenize.py\": 1688564782.1067982, \"/Users/kyou/miniconda3/lib/python3.11/linecache.py\": 1688564781.4710712, \"/Users/kyou/miniconda3/lib/python3.11/inspect.py\": 1688564781.442507, \"/Users/kyou/miniconda3/lib/python3.11/site-packages/traitlets/utils/__init__.py\": 1677911748.0, \"/Users/kyou/miniconda3/lib/python3.11/site-packages/traitlets/utils/bunch.py\": 1677911748.0, \"/Users/kyou/miniconda3/lib/python3.11/site-packages/traitlets/utils/descriptions.py\": 1677911748.0, \"/Users/kyou/miniconda3/lib/python3.11/site-packages/traitlets/utils/getargspec.py\": 1677911748.0, \"/Users/kyou/miniconda3/lib/python3.11/site-packages/traitlets/utils/importstring.py\": 1677911748.0, \"/Users/kyou/miniconda3/lib/python3.11/site-packages/traitlets/utils/sentinel.py\": 1677911748.0, \"/Users/kyou/miniconda3/lib/python3.11/site-packages/traitlets/traitlets.py\": 1677911748.0, \"/Users/kyou/miniconda3/lib/python3.11/site-packages/traitlets/_version.py\": 1677911748.0, \"/Users/kyou/miniconda3/lib/python3.11/weakref.py\": 1688564782.2164447, \"/Users/kyou/miniconda3/lib/python3.11/copy.py\": 1688564781.1322515, \"/Users/kyou/miniconda3/lib/python3.11/site-packages/traitlets/utils/decorators.py\": 1677911748.0, \"/Users/kyou/miniconda3/lib/python3.11/site-packages/traitlets/__init__.py\": 1677911748.0, \"/Users/kyou/miniconda3/lib/python3.11/concurrent/__init__.py\": 1688564782.6282074, \"/Users/kyou/miniconda3/lib/python3.11/textwrap.py\": 1688564782.0610054, \"/Users/kyou/miniconda3/lib/python3.11/traceback.py\": 1688564782.1265182, \"/Users/kyou/miniconda3/lib/python3.11/string.py\": 1688564781.957039, \"/Users/kyou/miniconda3/lib/python3.11/logging/__init__.py\": 1688564786.7642968, \"/Users/kyou/miniconda3/lib/python3.11/concurrent/futures/_base.py\": 1688564782.6541824, \"/Users/kyou/miniconda3/lib/python3.11/concurrent/futures/__init__.py\": 1688564782.6465821, \"/Users/kyou/miniconda3/lib/python3.11/lib-dynload/_heapq.cpython-311-darwin.so\": 1688564831.2153902, \"/Users/kyou/miniconda3/lib/python3.11/heapq.py\": 1688564781.387308, \"/Users/kyou/miniconda3/lib/python3.11/lib-dynload/_socket.cpython-311-darwin.so\": 1688564833.4979208, \"/Users/kyou/miniconda3/lib/python3.11/lib-dynload/array.cpython-311-darwin.so\": 1688564825.098066, \"/Users/kyou/miniconda3/lib/python3.11/socket.py\": 1688564781.8784184, \"/Users/kyou/miniconda3/lib/python3.11/lib-dynload/_ssl.cpython-311-darwin.so\": 1688564827.7426152, \"/Users/kyou/miniconda3/lib/python3.11/lib-dynload/_struct.cpython-311-darwin.so\": 1688564829.9466329, \"/Users/kyou/miniconda3/lib/python3.11/struct.py\": 1688564781.9797482, \"/Users/kyou/miniconda3/lib/python3.11/lib-dynload/binascii.cpython-311-darwin.so\": 1688564827.3849816, \"/Users/kyou/miniconda3/lib/python3.11/base64.py\": 1688564780.930304, \"/Users/kyou/miniconda3/lib/python3.11/ssl.py\": 1688564781.929183, \"/Users/kyou/miniconda3/lib/python3.11/asyncio/constants.py\": 1688564782.3589692, \"/Users/kyou/miniconda3/lib/python3.11/asyncio/coroutines.py\": 1688564782.3662324, \"/Users/kyou/miniconda3/lib/python3.11/lib-dynload/_contextvars.cpython-311-darwin.so\": 1688564828.7352557, \"/Users/kyou/miniconda3/lib/python3.11/contextvars.py\": 1688564781.1226885, \"/Users/kyou/miniconda3/lib/python3.11/asyncio/format_helpers.py\": 1688564782.3890224, \"/Users/kyou/miniconda3/lib/python3.11/asyncio/base_futures.py\": 1688564782.3367176, \"/Users/kyou/miniconda3/lib/python3.11/asyncio/exceptions.py\": 1688564782.3812215, \"/Users/kyou/miniconda3/lib/python3.11/asyncio/base_tasks.py\": 1688564782.3517363, \"/Users/kyou/miniconda3/lib/python3.11/lib-dynload/_asyncio.cpython-311-darwin.so\": 1688564830.4177685, \"/Users/kyou/miniconda3/lib/python3.11/asyncio/events.py\": 1688564782.3734634, \"/Users/kyou/miniconda3/lib/python3.11/asyncio/futures.py\": 1688564782.3967416, \"/Users/kyou/miniconda3/lib/python3.11/asyncio/protocols.py\": 1688564782.4371436, \"/Users/kyou/miniconda3/lib/python3.11/asyncio/transports.py\": 1688564782.5462544, \"/Users/kyou/miniconda3/lib/python3.11/asyncio/log.py\": 1688564782.4128554, \"/Users/kyou/miniconda3/lib/python3.11/asyncio/sslproto.py\": 1688564782.4708128, \"/Users/kyou/miniconda3/lib/python3.11/asyncio/mixins.py\": 1688564782.420392, \"/Users/kyou/miniconda3/lib/python3.11/asyncio/tasks.py\": 1688564782.5193396, \"/Users/kyou/miniconda3/lib/python3.11/asyncio/locks.py\": 1688564782.4048696, \"/Users/kyou/miniconda3/lib/python3.11/asyncio/staggered.py\": 1688564782.4800665, \"/Users/kyou/miniconda3/lib/python3.11/asyncio/trsock.py\": 1688564782.5565681, \"/Users/kyou/miniconda3/lib/python3.11/asyncio/base_events.py\": 1688564782.329661, \"/Users/kyou/miniconda3/lib/python3.11/asyncio/runners.py\": 1688564782.4548705, \"/Users/kyou/miniconda3/lib/python3.11/asyncio/queues.py\": 1688564782.4452174, \"/Users/kyou/miniconda3/lib/python3.11/asyncio/streams.py\": 1688564782.4925084, \"/Users/kyou/miniconda3/lib/python3.11/asyncio/subprocess.py\": 1688564782.5018678, \"/Users/kyou/miniconda3/lib/python3.11/asyncio/taskgroups.py\": 1688564782.5104284, \"/Users/kyou/miniconda3/lib/python3.11/asyncio/timeouts.py\": 1688564782.535564, \"/Users/kyou/miniconda3/lib/python3.11/asyncio/threads.py\": 1688564782.5272968, \"/Users/kyou/miniconda3/lib/python3.11/asyncio/base_subprocess.py\": 1688564782.3446069, \"/Users/kyou/miniconda3/lib/python3.11/asyncio/selector_events.py\": 1688564782.462936, \"/Users/kyou/miniconda3/lib/python3.11/asyncio/unix_events.py\": 1688564782.5653343, \"/Users/kyou/miniconda3/lib/python3.11/asyncio/__init__.py\": 1688564782.3151937, \"/Users/kyou/miniconda3/lib/python3.11/lib-dynload/_queue.cpython-311-darwin.so\": 1688564825.6918092, \"/Users/kyou/miniconda3/lib/python3.11/queue.py\": 1688564781.7123203, \"/Users/kyou/miniconda3/lib/python3.11/platform.py\": 1688564781.6192842, \"/Users/kyou/miniconda3/lib/python3.11/lib-dynload/_ctypes.cpython-311-darwin.so\": 1688564825.2172887, \"/Users/kyou/miniconda3/lib/python3.11/ctypes/_endian.py\": 1688564782.7044113, \"/Users/kyou/miniconda3/lib/python3.11/ctypes/__init__.py\": 1688564782.6880627, \"/Users/kyou/miniconda3/lib/python3.11/site-packages/zmq/backend/select.py\": 1677912981.0, \"/Users/kyou/miniconda3/lib/python3.11/site-packages/zmq/error.py\": 1677912981.0, \"/Users/kyou/miniconda3/lib/python3.11/site-packages/zmq/backend/cython/context.cpython-311-darwin.so\": 1677912998.0, \"/Users/kyou/miniconda3/lib/python3.11/site-packages/zmq/backend/cython/message.cpython-311-darwin.so\": 1677913000.0, \"/Users/kyou/miniconda3/lib/python3.11/lib-dynload/_bisect.cpython-311-darwin.so\": 1688564831.9058754, \"/Users/kyou/miniconda3/lib/python3.11/bisect.py\": 1688564780.9540122, \"/Users/kyou/miniconda3/lib/python3.11/lib-dynload/_random.cpython-311-darwin.so\": 1688564826.9978447, \"/Users/kyou/miniconda3/lib/python3.11/lib-dynload/_sha512.cpython-311-darwin.so\": 1688564829.1040053, \"/Users/kyou/miniconda3/lib/python3.11/random.py\": 1688564781.730237, \"/Users/kyou/miniconda3/lib/python3.11/_compat_pickle.py\": 1688564780.7218595, \"/Users/kyou/miniconda3/lib/python3.11/lib-dynload/_pickle.cpython-311-darwin.so\": 1688564831.0002189, \"/Users/kyou/miniconda3/lib/python3.11/pickle.py\": 1688564781.588746, \"/Users/kyou/miniconda3/lib/python3.11/site-packages/zmq/constants.py\": 1677912981.0, \"/Users/kyou/miniconda3/lib/python3.11/site-packages/zmq/backend/cython/socket.cpython-311-darwin.so\": 1677913003.0, \"/Users/kyou/miniconda3/lib/python3.11/site-packages/zmq/backend/cython/_device.cpython-311-darwin.so\": 1677913001.0, \"/Users/kyou/miniconda3/lib/python3.11/site-packages/zmq/backend/cython/_poll.cpython-311-darwin.so\": 1677913003.0, \"/Users/kyou/miniconda3/lib/python3.11/site-packages/zmq/backend/cython/_proxy_steerable.cpython-311-darwin.so\": 1677913002.0, \"/Users/kyou/miniconda3/lib/python3.11/site-packages/zmq/backend/cython/_version.cpython-311-darwin.so\": 1677913002.0, \"/Users/kyou/miniconda3/lib/python3.11/site-packages/zmq/backend/cython/error.cpython-311-darwin.so\": 1677913004.0, \"/Users/kyou/miniconda3/lib/python3.11/site-packages/zmq/backend/cython/utils.cpython-311-darwin.so\": 1677913004.0, \"/Users/kyou/miniconda3/lib/python3.11/site-packages/zmq/backend/cython/__init__.py\": 1677912981.0, \"/Users/kyou/miniconda3/lib/python3.11/site-packages/zmq/backend/__init__.py\": 1677912981.0, \"/Users/kyou/miniconda3/lib/python3.11/site-packages/zmq/sugar/attrsettr.py\": 1677912981.0, \"/Users/kyou/miniconda3/lib/python3.11/site-packages/zmq/_typing.py\": 1677912981.0, \"/Users/kyou/miniconda3/lib/python3.11/site-packages/zmq/utils/__init__.py\": 1677912981.0, \"/Users/kyou/miniconda3/lib/python3.11/site-packages/zmq/utils/jsonapi.py\": 1677912981.0, \"/Users/kyou/miniconda3/lib/python3.11/site-packages/zmq/sugar/poll.py\": 1677912981.0, \"/Users/kyou/miniconda3/lib/python3.11/site-packages/zmq/sugar/socket.py\": 1677912981.0, \"/Users/kyou/miniconda3/lib/python3.11/site-packages/zmq/sugar/context.py\": 1677912981.0, \"/Users/kyou/miniconda3/lib/python3.11/site-packages/zmq/sugar/frame.py\": 1677912981.0, \"/Users/kyou/miniconda3/lib/python3.11/site-packages/zmq/sugar/tracker.py\": 1677912981.0, \"/Users/kyou/miniconda3/lib/python3.11/site-packages/zmq/sugar/version.py\": 1677912981.0, \"/Users/kyou/miniconda3/lib/python3.11/site-packages/zmq/sugar/stopwatch.py\": 1677912981.0, \"/Users/kyou/miniconda3/lib/python3.11/site-packages/zmq/sugar/__init__.py\": 1677912981.0, \"/Users/kyou/miniconda3/lib/python3.11/site-packages/zmq/__init__.py\": 1677912981.0, \"/Users/kyou/miniconda3/lib/python3.11/site-packages/zmq/_future.py\": 1677912981.0, \"/Users/kyou/miniconda3/lib/python3.11/site-packages/zmq/asyncio.py\": 1677912981.0, \"/Users/kyou/miniconda3/lib/python3.11/site-packages/jupyter_client/channelsabc.py\": 1677914246.0, \"/Users/kyou/miniconda3/lib/python3.11/lib-dynload/_hashlib.cpython-311-darwin.so\": 1688564828.5934386, \"/Users/kyou/miniconda3/lib/python3.11/lib-dynload/_blake2.cpython-311-darwin.so\": 1688564832.155067, \"/Users/kyou/miniconda3/lib/python3.11/hashlib.py\": 1688564781.376208, \"/Users/kyou/miniconda3/lib/python3.11/hmac.py\": 1688564781.3984733, \"/Users/kyou/miniconda3/lib/python3.11/dataclasses.py\": 1688564781.1760492, \"/Users/kyou/miniconda3/lib/python3.11/pprint.py\": 1688564781.6524622, \"/Users/kyou/miniconda3/lib/python3.11/lib-dynload/_datetime.cpython-311-darwin.so\": 1688564826.1728184, \"/Users/kyou/miniconda3/lib/python3.11/datetime.py\": 1688564781.1860323, \"/Users/kyou/miniconda3/lib/python3.11/site-packages/tornado/__init__.py\": 1696937037.34731, \"/Users/kyou/miniconda3/lib/python3.11/numbers.py\": 1688564781.536736, \"/Users/kyou/miniconda3/lib/python3.11/logging/handlers.py\": 1688564786.7814853, \"/Users/kyou/miniconda3/lib/python3.11/html/entities.py\": 1688564784.8558779, \"/Users/kyou/miniconda3/lib/python3.11/html/__init__.py\": 1688564784.8454573, \"/Users/kyou/miniconda3/lib/python3.11/urllib/__init__.py\": 1688564787.4753964, \"/Users/kyou/miniconda3/lib/python3.11/ipaddress.py\": 1688564781.4590151, \"/Users/kyou/miniconda3/lib/python3.11/urllib/parse.py\": 1688564787.485407, \"/Users/kyou/miniconda3/lib/python3.11/lib-dynload/zlib.cpython-311-darwin.so\": 1688564824.326882, \"/Users/kyou/miniconda3/lib/python3.11/site-packages/tornado/speedups.abi3.so\": 1696937041.4034233, \"/Users/kyou/miniconda3/lib/python3.11/site-packages/tornado/util.py\": 1696937037.3565986, \"/Users/kyou/miniconda3/lib/python3.11/site-packages/tornado/escape.py\": 1696937037.3487802, \"/Users/kyou/miniconda3/lib/python3.11/lib-dynload/_curses.cpython-311-darwin.so\": 1688564833.2554042, \"/Users/kyou/miniconda3/lib/python3.11/curses/__init__.py\": 1688564782.804355, \"/Users/kyou/miniconda3/lib/python3.11/site-packages/tornado/log.py\": 1696937037.3509934, \"/Users/kyou/miniconda3/lib/python3.11/site-packages/tornado/concurrent.py\": 1696937037.3482654, \"/Users/kyou/miniconda3/lib/python3.11/site-packages/tornado/ioloop.py\": 1696937037.3501666, \"/Users/kyou/miniconda3/lib/python3.11/socketserver.py\": 1688564781.8893225, \"/Users/kyou/miniconda3/lib/python3.11/logging/config.py\": 1688564786.772991, \"/Users/kyou/miniconda3/lib/python3.11/site-packages/traitlets/utils/text.py\": 1677911748.0, \"/Users/kyou/miniconda3/lib/python3.11/gettext.py\": 1688564781.3351526, \"/Users/kyou/miniconda3/lib/python3.11/argparse.py\": 1688564780.8831294, \"/Users/kyou/miniconda3/lib/python3.11/site-packages/traitlets/config/loader.py\": 1677911748.0, \"/Users/kyou/miniconda3/lib/python3.11/site-packages/traitlets/config/configurable.py\": 1677911748.0, \"/Users/kyou/miniconda3/lib/python3.11/site-packages/traitlets/utils/nested_update.py\": 1677911748.0, \"/Users/kyou/miniconda3/lib/python3.11/site-packages/traitlets/config/application.py\": 1677911748.0, \"/Users/kyou/miniconda3/lib/python3.11/site-packages/traitlets/config/__init__.py\": 1677911748.0, \"/Users/kyou/miniconda3/lib/python3.11/site-packages/traitlets/log.py\": 1677911748.0, \"/Users/kyou/miniconda3/lib/python3.11/site-packages/tornado/platform/__init__.py\": 1696937037.35781, \"/Users/kyou/miniconda3/lib/python3.11/site-packages/tornado/gen.py\": 1696937037.3490343, \"/Users/kyou/miniconda3/lib/python3.11/site-packages/tornado/platform/asyncio.py\": 1696937037.3580408, \"/Users/kyou/miniconda3/lib/python3.11/site-packages/zmq/eventloop/ioloop.py\": 1677912981.0, \"/Users/kyou/miniconda3/lib/python3.11/site-packages/zmq/eventloop/__init__.py\": 1677912981.0, \"/Users/kyou/miniconda3/lib/python3.11/site-packages/zmq/eventloop/zmqstream.py\": 1677912981.0, \"/Users/kyou/miniconda3/lib/python3.11/site-packages/jupyter_client/adapter.py\": 1677914246.0, \"/Users/kyou/miniconda3/lib/python3.11/site-packages/dateutil/_version.py\": 1626374693.0, \"/Users/kyou/miniconda3/lib/python3.11/site-packages/dateutil/__init__.py\": 1626374693.0, \"/Users/kyou/miniconda3/lib/python3.11/__future__.py\": 1688564780.663615, \"/Users/kyou/miniconda3/lib/python3.11/calendar.py\": 1688564780.9863114, \"/Users/kyou/miniconda3/lib/python3.11/site-packages/six.py\": 1644875973.0, \"/Users/kyou/miniconda3/lib/python3.11/lib-dynload/_decimal.cpython-311-darwin.so\": 1688564829.4707966, \"/Users/kyou/miniconda3/lib/python3.11/decimal.py\": 1688564781.1959488, \"/Users/kyou/miniconda3/lib/python3.11/site-packages/dateutil/_common.py\": 1626374693.0, \"/Users/kyou/miniconda3/lib/python3.11/site-packages/dateutil/relativedelta.py\": 1626374693.0, \"/Users/kyou/miniconda3/lib/python3.11/site-packages/dateutil/tz/_common.py\": 1626374693.0, \"/Users/kyou/miniconda3/lib/python3.11/site-packages/dateutil/tz/_factories.py\": 1626374693.0, \"/Users/kyou/miniconda3/lib/python3.11/site-packages/dateutil/tz/tz.py\": 1626374693.0, \"/Users/kyou/miniconda3/lib/python3.11/site-packages/dateutil/tz/__init__.py\": 1626374693.0, \"/Users/kyou/miniconda3/lib/python3.11/site-packages/dateutil/parser/_parser.py\": 1626374693.0, \"/Users/kyou/miniconda3/lib/python3.11/site-packages/dateutil/parser/isoparser.py\": 1626374693.0, \"/Users/kyou/miniconda3/lib/python3.11/site-packages/dateutil/parser/__init__.py\": 1626374693.0, \"/Users/kyou/miniconda3/lib/python3.11/_strptime.py\": 1688564780.8128777, \"/Users/kyou/miniconda3/lib/python3.11/site-packages/jupyter_client/jsonutil.py\": 1677914246.0, \"/Users/kyou/miniconda3/lib/python3.11/site-packages/jupyter_client/session.py\": 1677914246.0, \"/Users/kyou/miniconda3/lib/python3.11/site-packages/jupyter_client/channels.py\": 1677914246.0, \"/Users/kyou/miniconda3/lib/python3.11/lib-dynload/termios.cpython-311-darwin.so\": 1688564833.1265, \"/Users/kyou/miniconda3/lib/python3.11/getpass.py\": 1688564781.324798, \"/Users/kyou/miniconda3/lib/python3.11/site-packages/jupyter_client/clientabc.py\": 1677914246.0, \"/Users/kyou/miniconda3/lib/python3.11/fnmatch.py\": 1688564781.2646844, \"/Users/kyou/miniconda3/lib/python3.11/glob.py\": 1688564781.347276, \"/Users/kyou/miniconda3/lib/python3.11/_compression.py\": 1688564780.732625, \"/Users/kyou/miniconda3/lib/python3.11/lib-dynload/_bz2.cpython-311-darwin.so\": 1688564828.4717243, \"/Users/kyou/miniconda3/lib/python3.11/bz2.py\": 1688564780.9656074, \"/Users/kyou/miniconda3/lib/python3.11/lib-dynload/_lzma.cpython-311-darwin.so\": 1688564832.0259523, \"/Users/kyou/miniconda3/lib/python3.11/lzma.py\": 1688564781.4819717, \"/Users/kyou/miniconda3/lib/python3.11/shutil.py\": 1688564781.8205347, \"/Users/kyou/miniconda3/lib/python3.11/tempfile.py\": 1688564782.0527828, \"/Users/kyou/miniconda3/lib/python3.11/site-packages/jupyter_core/version.py\": 1698937434.3687553, \"/Users/kyou/miniconda3/lib/python3.11/site-packages/jupyter_core/__init__.py\": 1698937434.367474, \"/Users/kyou/miniconda3/lib/python3.11/ntpath.py\": 1688564781.523612, \"/Users/kyou/miniconda3/lib/python3.11/pathlib.py\": 1688564781.5742269, \"/Users/kyou/miniconda3/lib/python3.11/site-packages/platformdirs/api.py\": 1692205687.9430747, \"/Users/kyou/miniconda3/lib/python3.11/site-packages/platformdirs/version.py\": 1692205687.9440744, \"/Users/kyou/miniconda3/lib/python3.11/site-packages/platformdirs/macos.py\": 1692205687.9433465, \"/Users/kyou/miniconda3/lib/python3.11/site-packages/platformdirs/__init__.py\": 1692205687.9422617, \"/Users/kyou/miniconda3/lib/python3.11/site-packages/jupyter_core/utils/__init__.py\": 1698937434.3689396, \"/Users/kyou/miniconda3/lib/python3.11/site-packages/jupyter_core/paths.py\": 1698937434.3683376, \"/Users/kyou/miniconda3/lib/python3.11/site-packages/jupyter_client/localinterfaces.py\": 1677914246.0, \"/Users/kyou/miniconda3/lib/python3.11/site-packages/jupyter_client/utils.py\": 1677914246.0, \"/Users/kyou/miniconda3/lib/python3.11/site-packages/jupyter_client/connect.py\": 1677914246.0, \"/Users/kyou/miniconda3/lib/python3.11/site-packages/jupyter_client/client.py\": 1677914246.0, \"/Users/kyou/miniconda3/lib/python3.11/site-packages/jupyter_client/asynchronous/client.py\": 1677914246.0, \"/Users/kyou/miniconda3/lib/python3.11/site-packages/jupyter_client/asynchronous/__init__.py\": 1677914246.0, \"/Users/kyou/miniconda3/lib/python3.11/site-packages/jupyter_client/blocking/client.py\": 1677914246.0, \"/Users/kyou/miniconda3/lib/python3.11/site-packages/jupyter_client/blocking/__init__.py\": 1677914246.0, \"/Users/kyou/miniconda3/lib/python3.11/site-packages/jupyter_client/launcher.py\": 1677914246.0, \"/Users/kyou/miniconda3/lib/python3.11/lib-dynload/_uuid.cpython-311-darwin.so\": 1688564830.8828516, \"/Users/kyou/miniconda3/lib/python3.11/uuid.py\": 1688564782.191241, \"/Users/kyou/miniconda3/lib/python3.11/site-packages/jupyter_client/managerabc.py\": 1677914246.0, \"/Users/kyou/miniconda3/lib/python3.11/zipfile.py\": 1688564782.253985, \"/Users/kyou/miniconda3/lib/python3.11/configparser.py\": 1688564781.1008353, \"/Users/kyou/miniconda3/lib/python3.11/site-packages/entrypoints.py\": 1677911911.0, \"/Users/kyou/miniconda3/lib/python3.11/site-packages/jupyter_client/provisioning/provisioner_base.py\": 1677914246.0, \"/Users/kyou/miniconda3/lib/python3.11/site-packages/jupyter_client/provisioning/factory.py\": 1677914246.0, \"/Users/kyou/miniconda3/lib/python3.11/site-packages/jupyter_client/provisioning/local_provisioner.py\": 1677914246.0, \"/Users/kyou/miniconda3/lib/python3.11/site-packages/jupyter_client/provisioning/__init__.py\": 1677914246.0, \"/Users/kyou/miniconda3/lib/python3.11/site-packages/jupyter_client/kernelspec.py\": 1677914246.0, \"/Users/kyou/miniconda3/lib/python3.11/site-packages/jupyter_client/manager.py\": 1677914246.0, \"/Users/kyou/miniconda3/lib/python3.11/site-packages/jupyter_client/multikernelmanager.py\": 1677914246.0, \"/Users/kyou/miniconda3/lib/python3.11/site-packages/jupyter_client/__init__.py\": 1677914246.0, \"/Users/kyou/miniconda3/lib/python3.11/site-packages/ipykernel/connect.py\": 1691121774.070976, \"/Users/kyou/miniconda3/lib/python3.11/site-packages/ipykernel/__init__.py\": 1691121774.0702379, \"/Users/kyou/miniconda3/lib/python3.11/site-packages/IPython/core/__init__.py\": 1694181608.8526428, \"/Users/kyou/miniconda3/lib/python3.11/site-packages/IPython/core/getipython.py\": 1694181608.8563979, \"/Users/kyou/miniconda3/lib/python3.11/site-packages/IPython/core/release.py\": 1694181608.862244, \"/Users/kyou/miniconda3/lib/python3.11/pkgutil.py\": 1688564781.6112375, \"/Users/kyou/miniconda3/lib/python3.11/sysconfig.py\": 1688564782.0146227, \"/Users/kyou/miniconda3/lib/python3.11/_sysconfigdata__darwin_darwin.py\": 1693277527.7468967, \"/Users/kyou/miniconda3/lib/python3.11/_osx_support.py\": 1688564780.7536223, \"/Users/kyou/miniconda3/lib/python3.11/pydoc.py\": 1688564781.7034788, \"/Users/kyou/miniconda3/lib/python3.11/site-packages/executing/executing.py\": 1646925118.0, \"/Users/kyou/miniconda3/lib/python3.11/site-packages/executing/version.py\": 1646925118.0, \"/Users/kyou/miniconda3/lib/python3.11/site-packages/executing/__init__.py\": 1646925118.0, \"/Users/kyou/miniconda3/lib/python3.11/site-packages/asttokens/line_numbers.py\": 1646925667.0, \"/Users/kyou/miniconda3/lib/python3.11/site-packages/asttokens/util.py\": 1646925667.0, \"/Users/kyou/miniconda3/lib/python3.11/site-packages/asttokens/mark_tokens.py\": 1646925667.0, \"/Users/kyou/miniconda3/lib/python3.11/site-packages/asttokens/asttokens.py\": 1646925667.0, \"/Users/kyou/miniconda3/lib/python3.11/site-packages/asttokens/__init__.py\": 1646925667.0, \"/Users/kyou/miniconda3/lib/python3.11/fractions.py\": 1688564781.2746112, \"/Users/kyou/miniconda3/lib/python3.11/site-packages/pure_eval/utils.py\": 1646925117.0, \"/Users/kyou/miniconda3/lib/python3.11/site-packages/pure_eval/my_getattr_static.py\": 1646925117.0, \"/Users/kyou/miniconda3/lib/python3.11/site-packages/pure_eval/core.py\": 1646925117.0, \"/Users/kyou/miniconda3/lib/python3.11/site-packages/pure_eval/version.py\": 1646925117.0, \"/Users/kyou/miniconda3/lib/python3.11/site-packages/pure_eval/__init__.py\": 1646925117.0, \"/Users/kyou/miniconda3/lib/python3.11/site-packages/stack_data/utils.py\": 1646927639.0, \"/Users/kyou/miniconda3/lib/python3.11/site-packages/stack_data/core.py\": 1646927639.0, \"/Users/kyou/miniconda3/lib/python3.11/site-packages/stack_data/formatting.py\": 1646927639.0, \"/Users/kyou/miniconda3/lib/python3.11/site-packages/stack_data/version.py\": 1646927639.0, \"/Users/kyou/miniconda3/lib/python3.11/site-packages/stack_data/__init__.py\": 1646927639.0, \"/Users/kyou/miniconda3/lib/python3.11/site-packages/pygments/__init__.py\": 1684280079.4615245, \"/Users/kyou/miniconda3/lib/python3.11/site-packages/pygments/formatters/_mapping.py\": 1684280079.4644132, \"/Users/kyou/miniconda3/lib/python3.11/site-packages/pygments/plugin.py\": 1684280079.4628057, \"/Users/kyou/miniconda3/lib/python3.11/site-packages/pygments/util.py\": 1684280079.4638867, \"/Users/kyou/miniconda3/lib/python3.11/site-packages/pygments/formatters/__init__.py\": 1684280079.4642923, \"/Users/kyou/miniconda3/lib/python3.11/site-packages/pygments/styles/__init__.py\": 1684280079.499848, \"/Users/kyou/miniconda3/lib/python3.11/site-packages/pygments/formatter.py\": 1684280079.4623005, \"/Users/kyou/miniconda3/lib/python3.11/site-packages/pygments/console.py\": 1684280079.4620457, \"/Users/kyou/miniconda3/lib/python3.11/site-packages/pygments/token.py\": 1684280079.4634545, \"/Users/kyou/miniconda3/lib/python3.11/site-packages/pygments/style.py\": 1684280079.4633284, \"/Users/kyou/miniconda3/lib/python3.11/site-packages/pygments/formatters/terminal256.py\": 1684280079.4660711, \"/Users/kyou/miniconda3/lib/python3.11/site-packages/IPython/utils/__init__.py\": 1694181608.8949196, \"/Users/kyou/miniconda3/lib/python3.11/site-packages/IPython/utils/colorable.py\": 1694181608.8960934, \"/Users/kyou/miniconda3/lib/python3.11/site-packages/IPython/utils/ipstruct.py\": 1694181608.8986552, \"/Users/kyou/miniconda3/lib/python3.11/site-packages/IPython/utils/coloransi.py\": 1694181608.8967001, \"/Users/kyou/miniconda3/lib/python3.11/site-packages/IPython/utils/PyColorize.py\": 1694181608.8948433, \"/Users/kyou/miniconda3/lib/python3.11/site-packages/IPython/utils/encoding.py\": 1694181608.8976686, \"/Users/kyou/miniconda3/lib/python3.11/site-packages/IPython/utils/py3compat.py\": 1694181608.9002483, \"/Users/kyou/miniconda3/lib/python3.11/site-packages/IPython/core/excolors.py\": 1694181608.8559465, \"/Users/kyou/miniconda3/lib/python3.11/cmd.py\": 1688564781.0321863, \"/Users/kyou/miniconda3/lib/python3.11/bdb.py\": 1688564780.9430318, \"/Users/kyou/miniconda3/lib/python3.11/codeop.py\": 1688564781.0659456, \"/Users/kyou/miniconda3/lib/python3.11/code.py\": 1688564781.0422602, \"/Users/kyou/miniconda3/lib/python3.11/pdb.py\": 1688564781.5815513, \"/Users/kyou/miniconda3/lib/python3.11/site-packages/IPython/core/debugger.py\": 1694181608.8547049, \"/Users/kyou/miniconda3/lib/python3.11/site-packages/IPython/core/display_trap.py\": 1694181608.8552544, \"/Users/kyou/miniconda3/lib/python3.11/site-packages/pexpect/exceptions.py\": 1605563232.0, \"/Users/kyou/miniconda3/lib/python3.11/site-packages/pexpect/utils.py\": 1605563232.0, \"/Users/kyou/miniconda3/lib/python3.11/site-packages/pexpect/expect.py\": 1605563232.0, \"/Users/kyou/miniconda3/lib/python3.11/tty.py\": 1688564782.1429245, \"/Users/kyou/miniconda3/lib/python3.11/pty.py\": 1688564781.6780322, \"/Users/kyou/miniconda3/lib/python3.11/lib-dynload/resource.cpython-311-darwin.so\": 1688564827.2789178, \"/Users/kyou/miniconda3/lib/python3.11/site-packages/ptyprocess/util.py\": 1609355037.0, \"/Users/kyou/miniconda3/lib/python3.11/site-packages/ptyprocess/ptyprocess.py\": 1609355037.0, \"/Users/kyou/miniconda3/lib/python3.11/site-packages/ptyprocess/__init__.py\": 1609355037.0, \"/Users/kyou/miniconda3/lib/python3.11/site-packages/pexpect/spawnbase.py\": 1605563232.0, \"/Users/kyou/miniconda3/lib/python3.11/site-packages/pexpect/pty_spawn.py\": 1605563232.0, \"/Users/kyou/miniconda3/lib/python3.11/site-packages/pexpect/run.py\": 1605563232.0, \"/Users/kyou/miniconda3/lib/python3.11/site-packages/pexpect/__init__.py\": 1605563232.0, \"/Users/kyou/miniconda3/lib/python3.11/shlex.py\": 1688564781.8102942, \"/Users/kyou/miniconda3/lib/python3.11/site-packages/IPython/utils/_process_common.py\": 1694181608.8952372, \"/Users/kyou/miniconda3/lib/python3.11/site-packages/IPython/utils/_process_posix.py\": 1694181608.8953915, \"/Users/kyou/miniconda3/lib/python3.11/site-packages/IPython/utils/process.py\": 1694181608.8997376, \"/Users/kyou/miniconda3/lib/python3.11/site-packages/IPython/utils/path.py\": 1694181608.8995938, \"/Users/kyou/miniconda3/lib/python3.11/site-packages/IPython/utils/terminal.py\": 1694181608.9015052, \"/Users/kyou/miniconda3/lib/python3.11/site-packages/IPython/core/ultratb.py\": 1694181608.8630319, \"/Users/kyou/miniconda3/lib/python3.11/site-packages/IPython/utils/_sysinfo.py\": 1694181608.895846, \"/Users/kyou/miniconda3/lib/python3.11/site-packages/IPython/utils/sysinfo.py\": 1694181608.9011364, \"/Users/kyou/miniconda3/lib/python3.11/site-packages/IPython/core/crashhandler.py\": 1694181608.8544517, \"/Users/kyou/miniconda3/lib/python3.11/site-packages/IPython/utils/importstring.py\": 1694181608.8982897, \"/Users/kyou/miniconda3/lib/python3.11/site-packages/IPython/paths.py\": 1694181608.852404, \"/Users/kyou/miniconda3/lib/python3.11/site-packages/IPython/core/profiledir.py\": 1694181608.861796, \"/Users/kyou/miniconda3/lib/python3.11/site-packages/IPython/core/application.py\": 1694181608.8530166, \"/Users/kyou/miniconda3/lib/python3.11/site-packages/IPython/terminal/__init__.py\": 1694181608.8847394, \"/Users/kyou/miniconda3/lib/python3.11/site-packages/IPython/core/compilerop.py\": 1694181608.8535917, \"/Users/kyou/miniconda3/lib/python3.11/site-packages/IPython/core/error.py\": 1694181608.855678, \"/Users/kyou/miniconda3/lib/python3.11/site-packages/IPython/utils/docs.py\": 1694181608.8975444, \"/Users/kyou/miniconda3/lib/python3.11/site-packages/IPython/utils/decorators.py\": 1694181608.8972924, \"/Users/kyou/miniconda3/lib/python3.11/site-packages/IPython/utils/text.py\": 1694181608.901791, \"/Users/kyou/miniconda3/lib/python3.11/site-packages/IPython/core/magic_arguments.py\": 1694181608.8601222, \"/Users/kyou/miniconda3/lib/python3.11/getopt.py\": 1688564781.3146632, \"/Users/kyou/miniconda3/lib/python3.11/site-packages/IPython/core/display_functions.py\": 1694181608.8551166, \"/Users/kyou/miniconda3/lib/python3.11/mimetypes.py\": 1688564781.4991322, \"/Users/kyou/miniconda3/lib/python3.11/site-packages/IPython/testing/__init__.py\": 1694181608.8904953, \"/Users/kyou/miniconda3/lib/python3.11/site-packages/IPython/testing/skipdoctest.py\": 1694181608.8912065, \"/Users/kyou/miniconda3/lib/python3.11/site-packages/IPython/core/display.py\": 1694181608.8549345, \"/Users/kyou/miniconda3/lib/python3.11/site-packages/IPython/lib/__init__.py\": 1694181608.8795283, \"/Users/kyou/miniconda3/lib/python3.11/site-packages/IPython/lib/display.py\": 1694181608.8806198, \"/Users/kyou/miniconda3/lib/python3.11/site-packages/IPython/display.py\": 1694181608.8522549, \"/Users/kyou/miniconda3/lib/python3.11/site-packages/IPython/utils/data.py\": 1694181608.8971517, \"/Users/kyou/miniconda3/lib/python3.11/site-packages/IPython/core/page.py\": 1694181608.8605702, \"/Users/kyou/miniconda3/lib/python3.11/site-packages/IPython/lib/pretty.py\": 1694181608.8819432, \"/Users/kyou/miniconda3/lib/python3.11/site-packages/IPython/utils/openpy.py\": 1694181608.8994367, \"/Users/kyou/miniconda3/lib/python3.11/site-packages/IPython/utils/dir2.py\": 1694181608.8974214, \"/Users/kyou/miniconda3/lib/python3.11/site-packages/IPython/utils/wildcard.py\": 1694181608.9031787, \"/Users/kyou/miniconda3/lib/python3.11/site-packages/pygments/lexers/_mapping.py\": 1684280079.468912, \"/Users/kyou/miniconda3/lib/python3.11/site-packages/pygments/modeline.py\": 1684280079.4626741, \"/Users/kyou/miniconda3/lib/python3.11/site-packages/pygments/lexers/__init__.py\": 1684280079.4662397, \"/Users/kyou/miniconda3/lib/python3.11/site-packages/pygments/filter.py\": 1684280079.4621696, \"/Users/kyou/miniconda3/lib/python3.11/site-packages/pygments/filters/__init__.py\": 1684280079.4641237, \"/Users/kyou/miniconda3/lib/python3.11/site-packages/pygments/regexopt.py\": 1684280079.4629433, \"/Users/kyou/miniconda3/lib/python3.11/site-packages/pygments/lexer.py\": 1684280079.4625328, \"/Users/kyou/miniconda3/lib/python3.11/site-packages/pygments/unistring.py\": 1684280079.463745, \"/Users/kyou/miniconda3/lib/python3.11/site-packages/pygments/lexers/python.py\": 1684280079.4909723, \"/Users/kyou/miniconda3/lib/python3.11/site-packages/pygments/formatters/html.py\": 1684280079.4648771, \"/Users/kyou/miniconda3/lib/python3.11/site-packages/IPython/core/oinspect.py\": 1694181608.8603897, \"/Users/kyou/miniconda3/lib/python3.11/site-packages/IPython/utils/tokenutil.py\": 1694181608.9025323, \"/Users/kyou/miniconda3/lib/python3.11/site-packages/IPython/core/inputtransformer2.py\": 1694181608.8579905, \"/Users/kyou/miniconda3/lib/python3.11/site-packages/IPython/core/magic.py\": 1694181608.8599236, \"/Users/kyou/miniconda3/lib/python3.11/site-packages/pickleshare.py\": 1606932074.0, \"/Users/kyou/miniconda3/lib/python3.11/site-packages/IPython/core/hooks.py\": 1694181608.8570883, \"/Users/kyou/miniconda3/lib/python3.11/site-packages/IPython/core/autocall.py\": 1694181608.853306, \"/Users/kyou/miniconda3/lib/python3.11/site-packages/IPython/core/macro.py\": 1694181608.8594542, \"/Users/kyou/miniconda3/lib/python3.11/site-packages/IPython/core/splitinput.py\": 1694181608.8625546, \"/Users/kyou/miniconda3/lib/python3.11/site-packages/IPython/core/prefilter.py\": 1694181608.8610744, \"/Users/kyou/miniconda3/lib/python3.11/site-packages/IPython/core/alias.py\": 1694181608.8528306, \"/Users/kyou/miniconda3/lib/python3.11/site-packages/IPython/core/builtin_trap.py\": 1694181608.8534431, \"/Users/kyou/miniconda3/lib/python3.11/site-packages/IPython/core/displayhook.py\": 1694181608.8554156, \"/Users/kyou/miniconda3/lib/python3.11/site-packages/IPython/core/displaypub.py\": 1694181608.8555539, \"/Users/kyou/miniconda3/lib/python3.11/site-packages/backcall/backcall.py\": 1611930017.0, \"/Users/kyou/miniconda3/lib/python3.11/site-packages/backcall/__init__.py\": 1611930017.0, \"/Users/kyou/miniconda3/lib/python3.11/site-packages/IPython/core/events.py\": 1694181608.8558173, \"/Users/kyou/miniconda3/lib/python3.11/site-packages/IPython/core/extensions.py\": 1694181608.8560755, \"/Users/kyou/miniconda3/lib/python3.11/site-packages/decorator.py\": 1643638344.0, \"/Users/kyou/miniconda3/lib/python3.11/site-packages/IPython/utils/sentinel.py\": 1694181608.900602, \"/Users/kyou/miniconda3/lib/python3.11/site-packages/IPython/core/formatters.py\": 1694181608.8562722, \"/Users/kyou/miniconda3/lib/python3.11/lib-dynload/_sqlite3.cpython-311-darwin.so\": 1688564824.7136068, \"/Users/kyou/miniconda3/lib/python3.11/sqlite3/dbapi2.py\": 1688564787.1077907, \"/Users/kyou/miniconda3/lib/python3.11/sqlite3/__init__.py\": 1688564787.1007285, \"/Users/kyou/miniconda3/lib/python3.11/site-packages/IPython/core/history.py\": 1694181608.856798, \"/Users/kyou/miniconda3/lib/python3.11/site-packages/IPython/core/logger.py\": 1694181608.8589494, \"/Users/kyou/miniconda3/lib/python3.11/site-packages/IPython/core/payload.py\": 1694181608.8607085, \"/Users/kyou/miniconda3/lib/python3.11/site-packages/IPython/core/usage.py\": 1694181608.8637233, \"/Users/kyou/miniconda3/lib/python3.11/site-packages/IPython/utils/capture.py\": 1694181608.8959768, \"/Users/kyou/miniconda3/lib/python3.11/site-packages/IPython/utils/io.py\": 1694181608.898501, \"/Users/kyou/miniconda3/lib/python3.11/site-packages/IPython/utils/strdispatch.py\": 1694181608.9009953, \"/Users/kyou/miniconda3/lib/python3.11/site-packages/IPython/utils/syspathcontext.py\": 1694181608.901261, \"/Users/kyou/miniconda3/lib/python3.11/site-packages/IPython/core/async_helpers.py\": 1694181608.853164, \"/Users/kyou/miniconda3/lib/python3.11/site-packages/IPython/core/interactiveshell.py\": 1694181608.8585844, \"/Users/kyou/miniconda3/lib/python3.11/site-packages/prompt_toolkit/application/current.py\": 1677918802.0, \"/Users/kyou/miniconda3/lib/python3.11/site-packages/prompt_toolkit/eventloop/async_context_manager.py\": 1677918802.0, \"/Users/kyou/miniconda3/lib/python3.11/site-packages/prompt_toolkit/eventloop/utils.py\": 1677918802.0, \"/Users/kyou/miniconda3/lib/python3.11/site-packages/prompt_toolkit/eventloop/async_generator.py\": 1677918802.0, \"/Users/kyou/miniconda3/lib/python3.11/site-packages/prompt_toolkit/eventloop/inputhook.py\": 1677918802.0, \"/Users/kyou/miniconda3/lib/python3.11/site-packages/prompt_toolkit/eventloop/__init__.py\": 1677918802.0, \"/Users/kyou/miniconda3/lib/python3.11/site-packages/prompt_toolkit/application/run_in_terminal.py\": 1677918802.0, \"/Users/kyou/miniconda3/lib/python3.11/site-packages/prompt_toolkit/selection.py\": 1677918802.0, \"/Users/kyou/miniconda3/lib/python3.11/site-packages/prompt_toolkit/clipboard/base.py\": 1677918802.0, \"/Users/kyou/miniconda3/lib/python3.11/site-packages/prompt_toolkit/clipboard/in_memory.py\": 1677918802.0, \"/Users/kyou/miniconda3/lib/python3.11/site-packages/prompt_toolkit/clipboard/__init__.py\": 1677918802.0, \"/Users/kyou/miniconda3/lib/python3.11/site-packages/prompt_toolkit/cache.py\": 1677918802.0, \"/Users/kyou/miniconda3/lib/python3.11/site-packages/prompt_toolkit/enums.py\": 1677918802.0, \"/Users/kyou/miniconda3/lib/python3.11/site-packages/prompt_toolkit/filters/base.py\": 1677918802.0, \"/Users/kyou/miniconda3/lib/python3.11/site-packages/prompt_toolkit/filters/app.py\": 1677918802.0, \"/Users/kyou/miniconda3/lib/python3.11/site-packages/prompt_toolkit/filters/cli.py\": 1677918802.0, \"/Users/kyou/miniconda3/lib/python3.11/site-packages/prompt_toolkit/filters/utils.py\": 1677918802.0, \"/Users/kyou/miniconda3/lib/python3.11/site-packages/prompt_toolkit/filters/__init__.py\": 1677918802.0, \"/Users/kyou/miniconda3/lib/python3.11/site-packages/prompt_toolkit/document.py\": 1677918802.0, \"/Users/kyou/miniconda3/lib/python3.11/site-packages/prompt_toolkit/auto_suggest.py\": 1677918802.0, \"/Users/kyou/miniconda3/lib/python3.11/site-packages/prompt_toolkit/keys.py\": 1677918802.0, \"/Users/kyou/miniconda3/lib/python3.11/site-packages/prompt_toolkit/key_binding/key_bindings.py\": 1677918802.0, \"/Users/kyou/miniconda3/lib/python3.11/site-packages/wcwidth/table_wide.py\": 1629357208.0, \"/Users/kyou/miniconda3/lib/python3.11/site-packages/wcwidth/table_zero.py\": 1629357208.0, \"/Users/kyou/miniconda3/lib/python3.11/site-packages/wcwidth/unicode_versions.py\": 1629357208.0, \"/Users/kyou/miniconda3/lib/python3.11/site-packages/wcwidth/wcwidth.py\": 1629357208.0, \"/Users/kyou/miniconda3/lib/python3.11/site-packages/wcwidth/__init__.py\": 1629357208.0, \"/Users/kyou/miniconda3/lib/python3.11/site-packages/prompt_toolkit/utils.py\": 1677918802.0, \"/Users/kyou/miniconda3/lib/python3.11/site-packages/prompt_toolkit/key_binding/key_processor.py\": 1677918802.0, \"/Users/kyou/miniconda3/lib/python3.11/site-packages/prompt_toolkit/key_binding/__init__.py\": 1677918802.0, \"/Users/kyou/miniconda3/lib/python3.11/site-packages/prompt_toolkit/key_binding/vi_state.py\": 1677918802.0, \"/Users/kyou/miniconda3/lib/python3.11/site-packages/prompt_toolkit/cursor_shapes.py\": 1677918802.0, \"/Users/kyou/miniconda3/lib/python3.11/site-packages/prompt_toolkit/data_structures.py\": 1677918802.0, \"/Users/kyou/miniconda3/lib/python3.11/site-packages/prompt_toolkit/styles/base.py\": 1677918802.0, \"/Users/kyou/miniconda3/lib/python3.11/site-packages/prompt_toolkit/styles/named_colors.py\": 1677918802.0, \"/Users/kyou/miniconda3/lib/python3.11/site-packages/prompt_toolkit/styles/style.py\": 1677918802.0, \"/Users/kyou/miniconda3/lib/python3.11/site-packages/prompt_toolkit/styles/defaults.py\": 1677918802.0, \"/Users/kyou/miniconda3/lib/python3.11/site-packages/prompt_toolkit/styles/pygments.py\": 1677918802.0, \"/Users/kyou/miniconda3/lib/python3.11/colorsys.py\": 1688564781.0764549, \"/Users/kyou/miniconda3/lib/python3.11/site-packages/prompt_toolkit/styles/style_transformation.py\": 1677918802.0, \"/Users/kyou/miniconda3/lib/python3.11/site-packages/prompt_toolkit/styles/__init__.py\": 1677918802.0, \"/Users/kyou/miniconda3/lib/python3.11/site-packages/prompt_toolkit/output/color_depth.py\": 1677918802.0, \"/Users/kyou/miniconda3/lib/python3.11/site-packages/prompt_toolkit/output/base.py\": 1677918802.0, \"/Users/kyou/miniconda3/lib/python3.11/site-packages/prompt_toolkit/output/flush_stdout.py\": 1677918802.0, \"/Users/kyou/miniconda3/lib/python3.11/site-packages/prompt_toolkit/output/plain_text.py\": 1677918802.0, \"/Users/kyou/miniconda3/lib/python3.11/site-packages/prompt_toolkit/output/defaults.py\": 1677918802.0, \"/Users/kyou/miniconda3/lib/python3.11/site-packages/prompt_toolkit/output/__init__.py\": 1677918802.0, \"/Users/kyou/miniconda3/lib/python3.11/site-packages/prompt_toolkit/output/vt100.py\": 1677918802.0, \"/Users/kyou/miniconda3/lib/python3.11/site-packages/prompt_toolkit/mouse_events.py\": 1677918802.0, \"/Users/kyou/miniconda3/lib/python3.11/site-packages/prompt_toolkit/formatted_text/base.py\": 1677918802.0, \"/Users/kyou/miniconda3/lib/python3.11/site-packages/prompt_toolkit/formatted_text/ansi.py\": 1677918802.0, \"/Users/kyou/miniconda3/lib/python3.11/xml/__init__.py\": 1688564787.686071, \"/Users/kyou/miniconda3/lib/python3.11/xml/dom/domreg.py\": 1688564787.719665, \"/Users/kyou/miniconda3/lib/python3.11/xml/dom/__init__.py\": 1688564787.7122917, \"/Users/kyou/miniconda3/lib/python3.11/xml/dom/minicompat.py\": 1688564787.7348483, \"/Users/kyou/miniconda3/lib/python3.11/xml/dom/NodeFilter.py\": 1688564787.7046247, \"/Users/kyou/miniconda3/lib/python3.11/xml/dom/xmlbuilder.py\": 1688564787.758155, \"/Users/kyou/miniconda3/lib/python3.11/xml/dom/minidom.py\": 1688564787.7427647, \"/Users/kyou/miniconda3/lib/python3.11/site-packages/prompt_toolkit/formatted_text/html.py\": 1677918802.0, \"/Users/kyou/miniconda3/lib/python3.11/site-packages/prompt_toolkit/formatted_text/pygments.py\": 1677918802.0, \"/Users/kyou/miniconda3/lib/python3.11/site-packages/prompt_toolkit/formatted_text/utils.py\": 1677918802.0, \"/Users/kyou/miniconda3/lib/python3.11/site-packages/prompt_toolkit/formatted_text/__init__.py\": 1677918802.0, \"/Users/kyou/miniconda3/lib/python3.11/site-packages/prompt_toolkit/completion/base.py\": 1677918802.0, \"/Users/kyou/miniconda3/lib/python3.11/site-packages/prompt_toolkit/completion/deduplicate.py\": 1677918802.0, \"/Users/kyou/miniconda3/lib/python3.11/site-packages/prompt_toolkit/completion/filesystem.py\": 1677918802.0, \"/Users/kyou/miniconda3/lib/python3.11/site-packages/prompt_toolkit/completion/word_completer.py\": 1677918802.0, \"/Users/kyou/miniconda3/lib/python3.11/site-packages/prompt_toolkit/completion/fuzzy_completer.py\": 1677918802.0, \"/Users/kyou/miniconda3/lib/python3.11/site-packages/prompt_toolkit/completion/nested.py\": 1677918802.0, \"/Users/kyou/miniconda3/lib/python3.11/site-packages/prompt_toolkit/completion/__init__.py\": 1677918802.0, \"/Users/kyou/miniconda3/lib/python3.11/site-packages/prompt_toolkit/history.py\": 1677918802.0, \"/Users/kyou/miniconda3/lib/python3.11/site-packages/prompt_toolkit/search.py\": 1677918802.0, \"/Users/kyou/miniconda3/lib/python3.11/site-packages/prompt_toolkit/validation.py\": 1677918802.0, \"/Users/kyou/miniconda3/lib/python3.11/site-packages/prompt_toolkit/buffer.py\": 1677918802.0, \"/Users/kyou/miniconda3/lib/python3.11/site-packages/prompt_toolkit/input/base.py\": 1677918802.0, \"/Users/kyou/miniconda3/lib/python3.11/site-packages/prompt_toolkit/input/defaults.py\": 1677918802.0, \"/Users/kyou/miniconda3/lib/python3.11/site-packages/prompt_toolkit/input/__init__.py\": 1677918802.0, \"/Users/kyou/miniconda3/lib/python3.11/site-packages/prompt_toolkit/input/typeahead.py\": 1677918802.0, \"/Users/kyou/miniconda3/lib/python3.11/site-packages/prompt_toolkit/key_binding/bindings/__init__.py\": 1677918802.0, \"/Users/kyou/miniconda3/lib/python3.11/site-packages/prompt_toolkit/key_binding/bindings/scroll.py\": 1677918802.0, \"/Users/kyou/miniconda3/lib/python3.11/site-packages/prompt_toolkit/key_binding/bindings/page_navigation.py\": 1677918802.0, \"/Users/kyou/miniconda3/lib/python3.11/site-packages/prompt_toolkit/lexers/base.py\": 1677918802.0, \"/Users/kyou/miniconda3/lib/python3.11/site-packages/prompt_toolkit/lexers/pygments.py\": 1677918802.0, \"/Users/kyou/miniconda3/lib/python3.11/site-packages/prompt_toolkit/lexers/__init__.py\": 1677918802.0, \"/Users/kyou/miniconda3/lib/python3.11/site-packages/prompt_toolkit/layout/utils.py\": 1677918802.0, \"/Users/kyou/miniconda3/lib/python3.11/site-packages/prompt_toolkit/layout/processors.py\": 1677918802.0, \"/Users/kyou/miniconda3/lib/python3.11/site-packages/prompt_toolkit/layout/controls.py\": 1677918802.0, \"/Users/kyou/miniconda3/lib/python3.11/site-packages/prompt_toolkit/layout/dimension.py\": 1677918802.0, \"/Users/kyou/miniconda3/lib/python3.11/site-packages/prompt_toolkit/layout/margins.py\": 1677918802.0, \"/Users/kyou/miniconda3/lib/python3.11/site-packages/prompt_toolkit/layout/mouse_handlers.py\": 1677918802.0, \"/Users/kyou/miniconda3/lib/python3.11/site-packages/prompt_toolkit/layout/screen.py\": 1677918802.0, \"/Users/kyou/miniconda3/lib/python3.11/site-packages/prompt_toolkit/layout/containers.py\": 1677918802.0, \"/Users/kyou/miniconda3/lib/python3.11/site-packages/prompt_toolkit/layout/layout.py\": 1677918802.0, \"/Users/kyou/miniconda3/lib/python3.11/site-packages/prompt_toolkit/layout/menus.py\": 1677918802.0, \"/Users/kyou/miniconda3/lib/python3.11/site-packages/prompt_toolkit/layout/scrollable_pane.py\": 1677918802.0, \"/Users/kyou/miniconda3/lib/python3.11/site-packages/prompt_toolkit/layout/__init__.py\": 1677918802.0, \"/Users/kyou/miniconda3/lib/python3.11/site-packages/prompt_toolkit/key_binding/bindings/completion.py\": 1677918802.0, \"/Users/kyou/miniconda3/lib/python3.11/site-packages/prompt_toolkit/key_binding/bindings/named_commands.py\": 1677918802.0, \"/Users/kyou/miniconda3/lib/python3.11/site-packages/prompt_toolkit/key_binding/bindings/basic.py\": 1677918802.0, \"/Users/kyou/miniconda3/lib/python3.11/site-packages/prompt_toolkit/key_binding/bindings/cpr.py\": 1677918802.0, \"/Users/kyou/miniconda3/lib/python3.11/site-packages/prompt_toolkit/key_binding/bindings/emacs.py\": 1677918802.0, \"/Users/kyou/miniconda3/lib/python3.11/site-packages/prompt_toolkit/key_binding/bindings/mouse.py\": 1677918802.0, \"/Users/kyou/miniconda3/lib/python3.11/site-packages/prompt_toolkit/input/ansi_escape_sequences.py\": 1677918802.0, \"/Users/kyou/miniconda3/lib/python3.11/site-packages/prompt_toolkit/input/vt100_parser.py\": 1677918802.0, \"/Users/kyou/miniconda3/lib/python3.11/site-packages/prompt_toolkit/key_binding/digraphs.py\": 1677918802.0, \"/Users/kyou/miniconda3/lib/python3.11/site-packages/prompt_toolkit/key_binding/bindings/vi.py\": 1677918802.0, \"/Users/kyou/miniconda3/lib/python3.11/site-packages/prompt_toolkit/key_binding/defaults.py\": 1677918802.0, \"/Users/kyou/miniconda3/lib/python3.11/site-packages/prompt_toolkit/key_binding/emacs_state.py\": 1677918802.0, \"/Users/kyou/miniconda3/lib/python3.11/site-packages/prompt_toolkit/layout/dummy.py\": 1677918802.0, \"/Users/kyou/miniconda3/lib/python3.11/site-packages/prompt_toolkit/renderer.py\": 1677918802.0, \"/Users/kyou/miniconda3/lib/python3.11/site-packages/prompt_toolkit/application/application.py\": 1677918802.0, \"/Users/kyou/miniconda3/lib/python3.11/site-packages/prompt_toolkit/application/dummy.py\": 1677918802.0, \"/Users/kyou/miniconda3/lib/python3.11/site-packages/prompt_toolkit/application/__init__.py\": 1677918802.0, \"/Users/kyou/miniconda3/lib/python3.11/site-packages/prompt_toolkit/key_binding/bindings/focus.py\": 1677918802.0, \"/Users/kyou/miniconda3/lib/python3.11/site-packages/prompt_toolkit/widgets/toolbars.py\": 1677918802.0, \"/Users/kyou/miniconda3/lib/python3.11/site-packages/prompt_toolkit/widgets/base.py\": 1677918802.0, \"/Users/kyou/miniconda3/lib/python3.11/site-packages/prompt_toolkit/widgets/dialogs.py\": 1677918802.0, \"/Users/kyou/miniconda3/lib/python3.11/site-packages/prompt_toolkit/widgets/menus.py\": 1677918802.0, \"/Users/kyou/miniconda3/lib/python3.11/site-packages/prompt_toolkit/widgets/__init__.py\": 1677918802.0, \"/Users/kyou/miniconda3/lib/python3.11/site-packages/prompt_toolkit/shortcuts/dialogs.py\": 1677918802.0, \"/Users/kyou/miniconda3/lib/python3.11/site-packages/prompt_toolkit/shortcuts/progress_bar/formatters.py\": 1677918802.0, \"/Users/kyou/miniconda3/lib/python3.11/site-packages/prompt_toolkit/shortcuts/progress_bar/base.py\": 1677918802.0, \"/Users/kyou/miniconda3/lib/python3.11/site-packages/prompt_toolkit/shortcuts/progress_bar/__init__.py\": 1677918802.0, \"/Users/kyou/miniconda3/lib/python3.11/site-packages/prompt_toolkit/key_binding/bindings/auto_suggest.py\": 1677918802.0, \"/Users/kyou/miniconda3/lib/python3.11/site-packages/prompt_toolkit/key_binding/bindings/open_in_editor.py\": 1677918802.0, \"/Users/kyou/miniconda3/lib/python3.11/site-packages/prompt_toolkit/shortcuts/prompt.py\": 1677918802.0, \"/Users/kyou/miniconda3/lib/python3.11/site-packages/prompt_toolkit/shortcuts/utils.py\": 1677918802.0, \"/Users/kyou/miniconda3/lib/python3.11/site-packages/prompt_toolkit/shortcuts/__init__.py\": 1677918802.0, \"/Users/kyou/miniconda3/lib/python3.11/site-packages/prompt_toolkit/__init__.py\": 1677918802.0, \"/Users/kyou/miniconda3/lib/python3.11/site-packages/prompt_toolkit/patch_stdout.py\": 1677918802.0, \"/Users/kyou/miniconda3/lib/python3.11/lib-dynload/unicodedata.cpython-311-darwin.so\": 1688564825.8227012, \"/Users/kyou/miniconda3/lib/python3.11/site-packages/IPython/core/guarded_eval.py\": 1694181608.8565903, \"/Users/kyou/miniconda3/lib/python3.11/site-packages/IPython/core/latex_symbols.py\": 1694181608.8587978, \"/Users/kyou/miniconda3/lib/python3.11/site-packages/IPython/utils/generics.py\": 1694181608.898146, \"/Users/kyou/miniconda3/lib/python3.11/site-packages/parso/utils.py\": 1641458668.0, \"/Users/kyou/miniconda3/lib/python3.11/site-packages/parso/tree.py\": 1641458668.0, \"/Users/kyou/miniconda3/lib/python3.11/site-packages/parso/python/__init__.py\": 1641458668.0, \"/Users/kyou/miniconda3/lib/python3.11/site-packages/parso/python/token.py\": 1641458668.0, \"/Users/kyou/miniconda3/lib/python3.11/site-packages/parso/python/tokenize.py\": 1641458668.0, \"/Users/kyou/miniconda3/lib/python3.11/site-packages/parso/pgen2/grammar_parser.py\": 1641458668.0, \"/Users/kyou/miniconda3/lib/python3.11/site-packages/parso/pgen2/generator.py\": 1641458668.0, \"/Users/kyou/miniconda3/lib/python3.11/site-packages/parso/pgen2/__init__.py\": 1641458668.0, \"/Users/kyou/miniconda3/lib/python3.11/site-packages/parso/parser.py\": 1641458668.0, \"/Users/kyou/miniconda3/lib/python3.11/site-packages/parso/_compatibility.py\": 1641458668.0, \"/Users/kyou/miniconda3/lib/python3.11/difflib.py\": 1688564781.2048614, \"/Users/kyou/miniconda3/lib/python3.11/site-packages/parso/python/prefix.py\": 1641458668.0, \"/Users/kyou/miniconda3/lib/python3.11/site-packages/parso/python/tree.py\": 1641458668.0, \"/Users/kyou/miniconda3/lib/python3.11/site-packages/parso/python/parser.py\": 1641458668.0, \"/Users/kyou/miniconda3/lib/python3.11/site-packages/parso/python/diff.py\": 1641458668.0, \"/Users/kyou/miniconda3/lib/python3.11/site-packages/parso/cache.py\": 1641458668.0, \"/Users/kyou/miniconda3/lib/python3.11/site-packages/parso/normalizer.py\": 1641458668.0, \"/Users/kyou/miniconda3/lib/python3.11/site-packages/parso/python/errors.py\": 1641458668.0, \"/Users/kyou/miniconda3/lib/python3.11/site-packages/parso/python/pep8.py\": 1641458668.0, \"/Users/kyou/miniconda3/lib/python3.11/site-packages/parso/file_io.py\": 1641458668.0, \"/Users/kyou/miniconda3/lib/python3.11/site-packages/parso/grammar.py\": 1641458668.0, \"/Users/kyou/miniconda3/lib/python3.11/site-packages/parso/__init__.py\": 1641458668.0, \"/Users/kyou/miniconda3/lib/python3.11/site-packages/jedi/parser_utils.py\": 1678994983.2623944, \"/Users/kyou/miniconda3/lib/python3.11/site-packages/jedi/debug.py\": 1678994983.2619162, \"/Users/kyou/miniconda3/lib/python3.11/site-packages/jedi/settings.py\": 1678994983.2626328, \"/Users/kyou/miniconda3/lib/python3.11/site-packages/jedi/cache.py\": 1678994983.261606, \"/Users/kyou/miniconda3/lib/python3.11/site-packages/jedi/file_io.py\": 1678994983.262067, \"/Users/kyou/miniconda3/lib/python3.11/site-packages/jedi/inference/cache.py\": 1678994983.2664125, \"/Users/kyou/miniconda3/lib/python3.11/site-packages/jedi/inference/helpers.py\": 1678994983.2676442, \"/Users/kyou/miniconda3/lib/python3.11/site-packages/jedi/inference/utils.py\": 1678994983.2699854, \"/Users/kyou/miniconda3/lib/python3.11/site-packages/jedi/inference/base_value.py\": 1678994983.2662454, \"/Users/kyou/miniconda3/lib/python3.11/site-packages/jedi/inference/sys_path.py\": 1678994983.2698264, \"/Users/kyou/miniconda3/lib/python3.11/site-packages/jedi/inference/recursion.py\": 1678994983.268606, \"/Users/kyou/miniconda3/lib/python3.11/site-packages/jedi/inference/flow_analysis.py\": 1678994983.2675002, \"/Users/kyou/miniconda3/lib/python3.11/site-packages/jedi/common.py\": 1678994983.26174, \"/Users/kyou/miniconda3/lib/python3.11/site-packages/jedi/inference/lazy_value.py\": 1678994983.2679892, \"/Users/kyou/miniconda3/lib/python3.11/site-packages/jedi/inference/docstrings.py\": 1678994983.266888, \"/Users/kyou/miniconda3/lib/python3.11/site-packages/jedi/plugins/__init__.py\": 1678994983.2754884, \"/Users/kyou/miniconda3/lib/python3.11/site-packages/jedi/inference/names.py\": 1678994983.2681625, \"/Users/kyou/miniconda3/lib/python3.11/site-packages/jedi/inference/filters.py\": 1678994983.2672143, \"/Users/kyou/miniconda3/lib/python3.11/site-packages/jedi/inference/compiled/getattr_static.py\": 1678994983.270461, \"/Users/kyou/miniconda3/lib/python3.11/site-packages/jedi/inference/compiled/access.py\": 1678994983.2703226, \"/Users/kyou/miniconda3/lib/python3.11/site-packages/jedi/inference/signature.py\": 1678994983.2691243, \"/Users/kyou/miniconda3/lib/python3.11/site-packages/jedi/inference/context.py\": 1678994983.2665884, \"/Users/kyou/miniconda3/lib/python3.11/site-packages/jedi/inference/compiled/value.py\": 1678994983.271077, \"/Users/kyou/miniconda3/lib/python3.11/site-packages/jedi/inference/compiled/__init__.py\": 1678994983.2701488, \"/Users/kyou/miniconda3/lib/python3.11/site-packages/jedi/inference/analysis.py\": 1678994983.2658877, \"/Users/kyou/miniconda3/lib/python3.11/site-packages/jedi/inference/gradual/__init__.py\": 1678994983.271764, \"/Users/kyou/miniconda3/lib/python3.11/site-packages/jedi/inference/value/module.py\": 1678994983.2751782, \"/Users/kyou/miniconda3/lib/python3.11/site-packages/jedi/inference/value/dynamic_arrays.py\": 1678994983.2740939, \"/Users/kyou/miniconda3/lib/python3.11/site-packages/jedi/inference/value/iterable.py\": 1678994983.2748554, \"/Users/kyou/miniconda3/lib/python3.11/site-packages/jedi/inference/arguments.py\": 1678994983.2660644, \"/Users/kyou/miniconda3/lib/python3.11/site-packages/jedi/inference/parser_cache.py\": 1678994983.268445, \"/Users/kyou/miniconda3/lib/python3.11/site-packages/jedi/inference/gradual/generics.py\": 1678994983.272513, \"/Users/kyou/miniconda3/lib/python3.11/site-packages/jedi/inference/value/function.py\": 1678994983.2744346, \"/Users/kyou/miniconda3/lib/python3.11/site-packages/jedi/inference/value/klass.py\": 1678994983.2750285, \"/Users/kyou/miniconda3/lib/python3.11/site-packages/jedi/inference/value/instance.py\": 1678994983.2746673, \"/Users/kyou/miniconda3/lib/python3.11/site-packages/jedi/inference/value/__init__.py\": 1678994983.273787, \"/Users/kyou/miniconda3/lib/python3.11/site-packages/jedi/inference/gradual/base.py\": 1678994983.27211, \"/Users/kyou/miniconda3/lib/python3.11/site-packages/jedi/inference/gradual/type_var.py\": 1678994983.272835, \"/Users/kyou/miniconda3/lib/python3.11/site-packages/jedi/inference/gradual/typing.py\": 1678994983.2734122, \"/Users/kyou/miniconda3/lib/python3.11/site-packages/jedi/inference/gradual/stub_value.py\": 1678994983.2726717, \"/Users/kyou/miniconda3/lib/python3.11/site-packages/jedi/inference/gradual/typeshed.py\": 1678994983.2731678, \"/Users/kyou/miniconda3/lib/python3.11/site-packages/jedi/_compatibility.py\": 1678994983.261446, \"/Users/kyou/miniconda3/lib/python3.11/site-packages/jedi/inference/compiled/subprocess/functions.py\": 1678994983.2716026, \"/Users/kyou/miniconda3/lib/python3.11/site-packages/jedi/api/exceptions.py\": 1678994983.2641118, \"/Users/kyou/miniconda3/lib/python3.11/site-packages/jedi/inference/compiled/subprocess/__init__.py\": 1678994983.2713017, \"/Users/kyou/miniconda3/lib/python3.11/site-packages/jedi/inference/imports.py\": 1678994983.2678382, \"/Users/kyou/miniconda3/lib/python3.11/site-packages/jedi/inference/param.py\": 1678994983.2683096, \"/Users/kyou/miniconda3/lib/python3.11/site-packages/jedi/inference/gradual/annotation.py\": 1678994983.2719345, \"/Users/kyou/miniconda3/lib/python3.11/site-packages/jedi/inference/value/decorator.py\": 1678994983.2739336, \"/Users/kyou/miniconda3/lib/python3.11/site-packages/jedi/inference/syntax_tree.py\": 1678994983.2696316, \"/Users/kyou/miniconda3/lib/python3.11/site-packages/jedi/inference/__init__.py\": 1678994983.2657206, \"/Users/kyou/miniconda3/lib/python3.11/site-packages/jedi/inference/gradual/conversion.py\": 1678994983.2723222, \"/Users/kyou/miniconda3/lib/python3.11/site-packages/jedi/inference/compiled/mixed.py\": 1678994983.270832, \"/Users/kyou/miniconda3/lib/python3.11/pydoc_data/__init__.py\": 1688564787.0020194, \"/Users/kyou/miniconda3/lib/python3.11/pydoc_data/topics.py\": 1688564787.0177586, \"/Users/kyou/miniconda3/lib/python3.11/site-packages/jedi/api/keywords.py\": 1678994983.2647579, \"/Users/kyou/miniconda3/lib/python3.11/site-packages/jedi/api/completion_cache.py\": 1678994983.263632, \"/Users/kyou/miniconda3/lib/python3.11/site-packages/jedi/api/helpers.py\": 1678994983.2644455, \"/Users/kyou/miniconda3/lib/python3.11/site-packages/jedi/api/classes.py\": 1678994983.263262, \"/Users/kyou/miniconda3/lib/python3.11/site-packages/jedi/api/interpreter.py\": 1678994983.2646089, \"/Users/kyou/miniconda3/lib/python3.11/site-packages/jedi/api/strings.py\": 1678994983.2651918, \"/Users/kyou/miniconda3/lib/python3.11/site-packages/jedi/api/file_name.py\": 1678994983.2642515, \"/Users/kyou/miniconda3/lib/python3.11/site-packages/jedi/inference/docstring_utils.py\": 1678994983.266733, \"/Users/kyou/miniconda3/lib/python3.11/site-packages/jedi/api/completion.py\": 1678994983.2634664, \"/Users/kyou/miniconda3/lib/python3.11/filecmp.py\": 1688564781.2437363, \"/Users/kyou/miniconda3/lib/python3.11/site-packages/jedi/api/environment.py\": 1678994983.2638352, \"/Users/kyou/miniconda3/lib/python3.11/site-packages/jedi/inference/references.py\": 1678994983.2688203, \"/Users/kyou/miniconda3/lib/python3.11/site-packages/jedi/api/project.py\": 1678994983.2649336, \"/Users/kyou/miniconda3/lib/python3.11/site-packages/jedi/api/errors.py\": 1678994983.263978, \"/Users/kyou/miniconda3/lib/python3.11/site-packages/jedi/api/refactoring/__init__.py\": 1678994983.2653632, \"/Users/kyou/miniconda3/lib/python3.11/site-packages/jedi/api/refactoring/extract.py\": 1678994983.2655187, \"/Users/kyou/miniconda3/lib/python3.11/site-packages/jedi/inference/gradual/utils.py\": 1678994983.2735903, \"/Users/kyou/miniconda3/lib/python3.11/site-packages/jedi/api/__init__.py\": 1678994983.263051, \"/Users/kyou/miniconda3/lib/python3.11/site-packages/jedi/plugins/stdlib.py\": 1678994983.2765427, \"/Users/kyou/miniconda3/lib/python3.11/site-packages/jedi/plugins/flask.py\": 1678994983.2758157, \"/Users/kyou/miniconda3/lib/python3.11/site-packages/jedi/plugins/pytest.py\": 1678994983.2760117, \"/Users/kyou/miniconda3/lib/python3.11/site-packages/jedi/plugins/django.py\": 1678994983.2756536, \"/Users/kyou/miniconda3/lib/python3.11/site-packages/jedi/plugins/registry.py\": 1678994983.276149, \"/Users/kyou/miniconda3/lib/python3.11/site-packages/jedi/__init__.py\": 1678994983.261013, \"/Users/kyou/miniconda3/lib/python3.11/site-packages/IPython/core/completer.py\": 1694181608.8540738, \"/Users/kyou/miniconda3/lib/python3.11/site-packages/IPython/terminal/ptutils.py\": 1694181608.886109, \"/Users/kyou/miniconda3/lib/python3.11/site-packages/IPython/terminal/shortcuts/auto_match.py\": 1694181608.8884974, \"/Users/kyou/miniconda3/lib/python3.11/site-packages/IPython/terminal/shortcuts/filters.py\": 1694181608.888819, \"/Users/kyou/miniconda3/lib/python3.11/site-packages/IPython/terminal/shortcuts/auto_suggest.py\": 1694181608.8886578, \"/Users/kyou/miniconda3/lib/python3.11/site-packages/IPython/terminal/shortcuts/__init__.py\": 1694181608.8883538, \"/Users/kyou/miniconda3/lib/python3.11/concurrent/futures/thread.py\": 1688564782.6691313, \"/Users/kyou/miniconda3/lib/python3.11/site-packages/IPython/terminal/debugger.py\": 1694181608.885021, \"/Users/kyou/miniconda3/lib/python3.11/site-packages/IPython/lib/clipboard.py\": 1694181608.8798552, \"/Users/kyou/miniconda3/lib/python3.11/site-packages/IPython/terminal/magics.py\": 1694181608.885728, \"/Users/kyou/miniconda3/lib/python3.11/site-packages/IPython/terminal/pt_inputhooks/__init__.py\": 1694181608.8862903, \"/Users/kyou/miniconda3/lib/python3.11/site-packages/IPython/terminal/prompts.py\": 1694181608.8859146, \"/Users/kyou/miniconda3/lib/python3.11/site-packages/IPython/terminal/interactiveshell.py\": 1694181608.8854084, \"/Users/kyou/miniconda3/lib/python3.11/site-packages/IPython/core/magics/auto.py\": 1694181608.8642128, \"/Users/kyou/miniconda3/lib/python3.11/site-packages/IPython/core/magics/basic.py\": 1694181608.864406, \"/Users/kyou/miniconda3/lib/python3.11/email/__init__.py\": 1688564783.397192, \"/Users/kyou/miniconda3/lib/python3.11/http/__init__.py\": 1688564784.8867886, \"/Users/kyou/miniconda3/lib/python3.11/email/errors.py\": 1688564783.4907131, \"/Users/kyou/miniconda3/lib/python3.11/email/quoprimime.py\": 1688564783.5636415, \"/Users/kyou/miniconda3/lib/python3.11/email/base64mime.py\": 1688564783.4542704, \"/Users/kyou/miniconda3/lib/python3.11/quopri.py\": 1688564781.7211983, \"/Users/kyou/miniconda3/lib/python3.11/email/encoders.py\": 1688564783.480945, \"/Users/kyou/miniconda3/lib/python3.11/email/charset.py\": 1688564783.4630146, \"/Users/kyou/miniconda3/lib/python3.11/email/header.py\": 1688564783.518016, \"/Users/kyou/miniconda3/lib/python3.11/email/_parseaddr.py\": 1688564783.4252505, \"/Users/kyou/miniconda3/lib/python3.11/email/utils.py\": 1688564783.571165, \"/Users/kyou/miniconda3/lib/python3.11/email/_policybase.py\": 1688564783.4348986, \"/Users/kyou/miniconda3/lib/python3.11/email/feedparser.py\": 1688564783.4994602, \"/Users/kyou/miniconda3/lib/python3.11/email/parser.py\": 1688564783.5482092, \"/Users/kyou/miniconda3/lib/python3.11/email/_encoded_words.py\": 1688564783.4059193, \"/Users/kyou/miniconda3/lib/python3.11/email/iterators.py\": 1688564783.5345926, \"/Users/kyou/miniconda3/lib/python3.11/email/message.py\": 1688564783.5415096, \"/Users/kyou/miniconda3/lib/python3.11/http/client.py\": 1688564784.8959599, \"/Users/kyou/miniconda3/lib/python3.11/urllib/response.py\": 1688564787.5010824, \"/Users/kyou/miniconda3/lib/python3.11/urllib/error.py\": 1688564787.4804838, \"/Users/kyou/miniconda3/lib/python3.11/lib-dynload/_scproxy.cpython-311-darwin.so\": 1688564825.5661368, \"/Users/kyou/miniconda3/lib/python3.11/urllib/request.py\": 1688564787.4933164, \"/Users/kyou/miniconda3/lib/python3.11/site-packages/IPython/utils/contexts.py\": 1694181608.8968801, \"/Users/kyou/miniconda3/lib/python3.11/site-packages/IPython/core/magics/code.py\": 1694181608.864654, \"/Users/kyou/miniconda3/lib/python3.11/site-packages/IPython/core/magics/config.py\": 1694181608.8648164, \"/Users/kyou/miniconda3/lib/python3.11/site-packages/IPython/core/magics/display.py\": 1694181608.865035, \"/Users/kyou/miniconda3/lib/python3.11/lib-dynload/_lsprof.cpython-311-darwin.so\": 1688564824.5907984, \"/Users/kyou/miniconda3/lib/python3.11/profile.py\": 1688564781.6608229, \"/Users/kyou/miniconda3/lib/python3.11/cProfile.py\": 1688564780.9765275, \"/Users/kyou/miniconda3/lib/python3.11/pstats.py\": 1688564781.6688108, \"/Users/kyou/miniconda3/lib/python3.11/timeit.py\": 1688564782.088333, \"/Users/kyou/miniconda3/lib/python3.11/site-packages/IPython/utils/module_paths.py\": 1694181608.8993115, \"/Users/kyou/miniconda3/lib/python3.11/site-packages/IPython/utils/timing.py\": 1694181608.9023569, \"/Users/kyou/miniconda3/lib/python3.11/site-packages/IPython/core/magics/ast_mod.py\": 1694181608.8640723, \"/Users/kyou/miniconda3/lib/python3.11/site-packages/IPython/core/magics/execution.py\": 1694181608.865561, \"/Users/kyou/miniconda3/lib/python3.11/site-packages/IPython/core/magics/extension.py\": 1694181608.8657224, \"/Users/kyou/miniconda3/lib/python3.11/site-packages/IPython/core/magics/history.py\": 1694181608.8658934, \"/Users/kyou/miniconda3/lib/python3.11/site-packages/IPython/core/magics/logging.py\": 1694181608.8660424, \"/Users/kyou/miniconda3/lib/python3.11/site-packages/IPython/core/magics/namespace.py\": 1694181608.8662543, \"/Users/kyou/miniconda3/lib/python3.11/site-packages/IPython/core/magics/osm.py\": 1694181608.8665113, \"/Users/kyou/miniconda3/lib/python3.11/site-packages/IPython/core/magics/packaging.py\": 1694181608.8671007, \"/Users/kyou/miniconda3/lib/python3.11/site-packages/IPython/core/pylabtools.py\": 1694181608.8621135, \"/Users/kyou/miniconda3/lib/python3.11/site-packages/IPython/core/magics/pylab.py\": 1694181608.8674746, \"/Users/kyou/miniconda3/lib/python3.11/site-packages/IPython/core/magics/script.py\": 1694181608.8676608, \"/Users/kyou/miniconda3/lib/python3.11/site-packages/IPython/core/magics/__init__.py\": 1694181608.8639119, \"/Users/kyou/miniconda3/lib/python3.11/site-packages/IPython/core/shellapp.py\": 1694181608.8624175, \"/Users/kyou/miniconda3/lib/python3.11/site-packages/IPython/extensions/__init__.py\": 1694181608.8766227, \"/Users/kyou/miniconda3/lib/python3.11/site-packages/IPython/extensions/storemagic.py\": 1694181608.8774343, \"/Users/kyou/miniconda3/lib/python3.11/site-packages/IPython/terminal/ipapp.py\": 1694181608.8855712, \"/Users/kyou/miniconda3/lib/python3.11/site-packages/IPython/terminal/embed.py\": 1694181608.8851836, \"/Users/kyou/miniconda3/lib/python3.11/site-packages/IPython/utils/frame.py\": 1694181608.897985, \"/Users/kyou/miniconda3/lib/python3.11/site-packages/IPython/__init__.py\": 1694181608.8444588, \"/Users/kyou/miniconda3/lib/python3.11/site-packages/ipykernel/control.py\": 1691121774.0711126, \"/Users/kyou/miniconda3/lib/python3.11/site-packages/ipykernel/heartbeat.py\": 1691121774.072021, \"/Users/kyou/miniconda3/lib/python3.11/site-packages/ipykernel/iostream.py\": 1691121774.0722008, \"/Users/kyou/miniconda3/lib/python3.11/site-packages/comm/base_comm.py\": 1677919283.0, \"/Users/kyou/miniconda3/lib/python3.11/site-packages/comm/__init__.py\": 1677919283.0, \"/Users/kyou/miniconda3/lib/python3.11/site-packages/ipykernel/jsonutil.py\": 1691121774.0725372, \"/Users/kyou/miniconda3/lib/python3.11/site-packages/psutil/_common.py\": 1678995707.878251, \"/Users/kyou/miniconda3/lib/python3.11/site-packages/psutil/_compat.py\": 1678995707.8784559, \"/Users/kyou/miniconda3/lib/python3.11/site-packages/psutil/_psposix.py\": 1678995707.8797383, \"/Users/kyou/miniconda3/lib/python3.11/site-packages/psutil/_psutil_osx.cpython-311-darwin.so\": 1678995711.545596, \"/Users/kyou/miniconda3/lib/python3.11/site-packages/psutil/_psutil_posix.cpython-311-darwin.so\": 1678995711.6641812, \"/Users/kyou/miniconda3/lib/python3.11/site-packages/psutil/_psosx.py\": 1678995707.8795362, \"/Users/kyou/miniconda3/lib/python3.11/site-packages/psutil/__init__.py\": 1678995707.877918, \"/Users/kyou/miniconda3/lib/python3.11/site-packages/tornado/locks.py\": 1696937037.350829, \"/Users/kyou/miniconda3/lib/python3.11/site-packages/tornado/queues.py\": 1696937037.3527164, \"/Users/kyou/miniconda3/lib/python3.11/site-packages/ipykernel/kernelbase.py\": 1691121774.0729573, \"/Users/kyou/miniconda3/lib/python3.11/site-packages/ipykernel/comm/comm.py\": 1691121774.0745482, \"/Users/kyou/miniconda3/lib/python3.11/site-packages/ipykernel/comm/manager.py\": 1691121774.074673, \"/Users/kyou/miniconda3/lib/python3.11/site-packages/ipykernel/comm/__init__.py\": 1691121774.0744197, \"/Users/kyou/miniconda3/lib/python3.11/site-packages/ipykernel/compiler.py\": 1691121774.0708272, \"/Users/kyou/miniconda3/lib/python3.11/site-packages/debugpy/_version.py\": 1690905127.4250655, \"/Users/kyou/miniconda3/lib/python3.11/site-packages/debugpy/public_api.py\": 1690905127.4252374, \"/Users/kyou/miniconda3/lib/python3.11/site-packages/debugpy/__init__.py\": 1690905127.4247036, \"/Users/kyou/miniconda3/lib/python3.11/site-packages/debugpy/_vendored/_util.py\": 1690905127.4266095, \"/Users/kyou/miniconda3/lib/python3.11/site-packages/debugpy/_vendored/__init__.py\": 1690905127.4254217, \"/Users/kyou/miniconda3/lib/python3.11/site-packages/debugpy/_vendored/pydevd/_pydevd_bundle/__init__.py\": 1690905127.433705, \"/Users/kyou/miniconda3/lib/python3.11/encodings/ascii.py\": 1688564783.68243, \"/Users/kyou/miniconda3/lib/python3.11/encodings/latin_1.py\": 1688564784.4378629, \"/Users/kyou/miniconda3/lib/python3.11/stringprep.py\": 1688564781.9673367, \"/Users/kyou/miniconda3/lib/python3.11/encodings/idna.py\": 1688564784.1690452, \"/Users/kyou/miniconda3/lib/python3.11/site-packages/debugpy/_vendored/pydevd/_pydevd_bundle/pydevd_vm_type.py\": 1690905127.4487154, \"/Users/kyou/miniconda3/lib/python3.11/site-packages/debugpy/_vendored/pydevd/_pydev_bundle/__init__.py\": 1690905127.4287102, \"/Users/kyou/miniconda3/lib/python3.11/xmlrpc/__init__.py\": 1688564787.9147718, \"/Users/kyou/miniconda3/lib/python3.11/xml/parsers/__init__.py\": 1688564787.8311427, \"/Users/kyou/miniconda3/lib/python3.11/lib-dynload/pyexpat.cpython-311-darwin.so\": 1688564832.388499, \"/Users/kyou/miniconda3/lib/python3.11/xml/parsers/expat.py\": 1688564787.8384776, \"/Users/kyou/miniconda3/lib/python3.11/gzip.py\": 1688564781.3663898, \"/Users/kyou/miniconda3/lib/python3.11/xmlrpc/client.py\": 1688564787.9225821, \"/Users/kyou/miniconda3/lib/python3.11/http/server.py\": 1688564784.9231684, \"/Users/kyou/miniconda3/lib/python3.11/xmlrpc/server.py\": 1688564787.930371, \"/Users/kyou/miniconda3/lib/python3.11/site-packages/debugpy/_vendored/pydevd/_pydev_bundle/_pydev_saved_modules.py\": 1690905127.4299357, \"/Users/kyou/miniconda3/lib/python3.11/site-packages/debugpy/_vendored/pydevd/_pydevd_bundle/pydevd_constants.py\": 1690905127.436549, \"/Users/kyou/miniconda3/lib/python3.11/site-packages/debugpy/_vendored/pydevd/_pydev_runfiles/__init__.py\": 1690905127.43232, \"/Users/kyou/miniconda3/lib/python3.11/site-packages/debugpy/_vendored/pydevd/_pydevd_frame_eval/__init__.py\": 1690905127.4521265, \"/Users/kyou/miniconda3/lib/python3.11/site-packages/debugpy/_vendored/pydevd/pydev_ipython/__init__.py\": 1690905127.4614635, \"/Users/kyou/miniconda3/lib/python3.11/plistlib.py\": 1688564781.6279566, \"/Users/kyou/miniconda3/lib/python3.11/site-packages/pkg_resources/extern/__init__.py\": 1684525084.0, \"/Users/kyou/miniconda3/lib/python3.11/site-packages/pkg_resources/_vendor/__init__.py\": 1684525084.0, \"/Users/kyou/miniconda3/lib/python3.11/site-packages/pkg_resources/_vendor/jaraco/__init__.py\": 1684525084.0, \"/Users/kyou/miniconda3/lib/python3.11/importlib/resources/abc.py\": 1688564785.852974, \"/Users/kyou/miniconda3/lib/python3.11/importlib/resources/_adapters.py\": 1688564785.8161016, \"/Users/kyou/miniconda3/lib/python3.11/importlib/resources/_common.py\": 1688564785.8252645, \"/Users/kyou/miniconda3/lib/python3.11/importlib/resources/_legacy.py\": 1688564785.8429205, \"/Users/kyou/miniconda3/lib/python3.11/importlib/resources/__init__.py\": 1688564785.807508, \"/Users/kyou/miniconda3/lib/python3.11/site-packages/pkg_resources/_vendor/more_itertools/recipes.py\": 1684525084.0, \"/Users/kyou/miniconda3/lib/python3.11/site-packages/pkg_resources/_vendor/more_itertools/more.py\": 1684525084.0, \"/Users/kyou/miniconda3/lib/python3.11/site-packages/pkg_resources/_vendor/more_itertools/__init__.py\": 1684525084.0, \"/Users/kyou/miniconda3/lib/python3.11/site-packages/pkg_resources/_vendor/jaraco/functools.py\": 1684525084.0, \"/Users/kyou/miniconda3/lib/python3.11/site-packages/pkg_resources/_vendor/jaraco/context.py\": 1684525084.0, \"/Users/kyou/miniconda3/lib/python3.11/site-packages/pkg_resources/_vendor/jaraco/text/__init__.py\": 1684525084.0, \"/Users/kyou/miniconda3/lib/python3.11/site-packages/pkg_resources/_vendor/platformdirs/api.py\": 1684525084.0, \"/Users/kyou/miniconda3/lib/python3.11/site-packages/pkg_resources/_vendor/platformdirs/version.py\": 1684525084.0, \"/Users/kyou/miniconda3/lib/python3.11/site-packages/pkg_resources/_vendor/platformdirs/macos.py\": 1684525084.0, \"/Users/kyou/miniconda3/lib/python3.11/site-packages/pkg_resources/_vendor/platformdirs/__init__.py\": 1684525084.0, \"/Users/kyou/miniconda3/lib/python3.11/site-packages/pkg_resources/_vendor/packaging/__init__.py\": 1684525084.0, \"/Users/kyou/miniconda3/lib/python3.11/site-packages/pkg_resources/_vendor/packaging/_structures.py\": 1684525084.0, \"/Users/kyou/miniconda3/lib/python3.11/site-packages/pkg_resources/_vendor/packaging/version.py\": 1684525084.0, \"/Users/kyou/miniconda3/lib/python3.11/site-packages/pkg_resources/_vendor/packaging/_elffile.py\": 1684525084.0, \"/Users/kyou/miniconda3/lib/python3.11/site-packages/pkg_resources/_vendor/packaging/_manylinux.py\": 1684525084.0, \"/Users/kyou/miniconda3/lib/python3.11/site-packages/pkg_resources/_vendor/packaging/_musllinux.py\": 1684525084.0, \"/Users/kyou/miniconda3/lib/python3.11/site-packages/pkg_resources/_vendor/packaging/tags.py\": 1684525084.0, \"/Users/kyou/miniconda3/lib/python3.11/site-packages/pkg_resources/_vendor/packaging/utils.py\": 1684525084.0, \"/Users/kyou/miniconda3/lib/python3.11/site-packages/pkg_resources/_vendor/packaging/specifiers.py\": 1684525084.0, \"/Users/kyou/miniconda3/lib/python3.11/site-packages/pkg_resources/_vendor/packaging/_tokenizer.py\": 1684525084.0, \"/Users/kyou/miniconda3/lib/python3.11/site-packages/pkg_resources/_vendor/packaging/_parser.py\": 1684525084.0, \"/Users/kyou/miniconda3/lib/python3.11/site-packages/pkg_resources/_vendor/packaging/markers.py\": 1684525084.0, \"/Users/kyou/miniconda3/lib/python3.11/site-packages/pkg_resources/_vendor/packaging/requirements.py\": 1684525084.0, \"/Users/kyou/miniconda3/lib/python3.11/site-packages/pkg_resources/__init__.py\": 1684525084.0, \"/Users/kyou/miniconda3/lib/python3.11/site-packages/debugpy/_vendored/pydevd/pydevd_plugins/__init__.py\": 1690905127.4821687, \"/Users/kyou/miniconda3/lib/python3.11/site-packages/debugpy/_vendored/pydevd/_pydev_bundle/pydev_log.py\": 1690905127.4313047, \"/Users/kyou/miniconda3/lib/python3.11/site-packages/debugpy/_vendored/pydevd/_pydev_bundle/_pydev_filesystem_encoding.py\": 1690905127.4292529, \"/Users/kyou/miniconda3/lib/python3.11/site-packages/debugpy/_vendored/pydevd/_pydevd_bundle/pydevd_comm_constants.py\": 1690905127.4359972, \"/Users/kyou/miniconda3/lib/python3.11/site-packages/debugpy/_vendored/pydevd/pydevd_file_utils.py\": 1690905127.42828, \"/Users/kyou/miniconda3/lib/python3.11/site-packages/debugpy/_vendored/pydevd/_pydev_bundle/_pydev_execfile.py\": 1690905127.429129, \"/Users/kyou/miniconda3/lib/python3.11/site-packages/debugpy/_vendored/pydevd/_pydevd_bundle/pydevd_exec2.py\": 1690905127.4430888, \"/Users/kyou/miniconda3/lib/python3.11/site-packages/debugpy/_vendored/pydevd/_pydev_bundle/pydev_imports.py\": 1690905127.4305863, \"/Users/kyou/miniconda3/lib/python3.11/site-packages/debugpy/_vendored/pydevd/_pydev_bundle/pydev_is_thread_alive.py\": 1690905127.431041, \"/Users/kyou/miniconda3/lib/python3.11/site-packages/debugpy/_vendored/pydevd/_pydev_bundle/pydev_override.py\": 1690905127.4317698, \"/Users/kyou/miniconda3/lib/python3.11/site-packages/debugpy/_vendored/pydevd/pydevd_plugins/extensions/__init__.py\": 1690905127.4830673, \"/Users/kyou/miniconda3/lib/python3.11/site-packages/debugpy/_vendored/pydevd/_pydevd_bundle/pydevd_extension_utils.py\": 1690905127.443398, \"/Users/kyou/miniconda3/lib/python3.11/site-packages/debugpy/_vendored/pydevd/_pydevd_bundle/pydevd_frame_utils.py\": 1690905127.4440346, \"/Users/kyou/miniconda3/lib/python3.11/site-packages/debugpy/_vendored/pydevd/_pydevd_bundle/pydevd_filtering.py\": 1690905127.4435709, \"/Users/kyou/miniconda3/lib/python3.11/site-packages/debugpy/_vendored/pydevd/_pydevd_bundle/pydevd_io.py\": 1690905127.444518, \"/Users/kyou/miniconda3/lib/python3.11/site-packages/debugpy/_vendored/pydevd/_pydevd_bundle/pydevd_defaults.py\": 1690905127.4426343, \"/Users/kyou/miniconda3/lib/python3.11/site-packages/debugpy/_vendored/pydevd/_pydevd_bundle/pydevd_utils.py\": 1690905127.4483914, \"/Users/kyou/miniconda3/lib/python3.11/site-packages/debugpy/_vendored/pydevd/_pydevd_bundle/pydevd_runpy.py\": 1690905127.4464793, \"/Users/kyou/miniconda3/lib/python3.11/site-packages/debugpy/_vendored/pydevd/_pydev_bundle/_pydev_tipper_common.py\": 1690905127.430169, \"/Users/kyou/miniconda3/lib/python3.11/site-packages/debugpy/_vendored/pydevd/_pydev_bundle/_pydev_imports_tipper.py\": 1690905127.4295273, \"/Users/kyou/miniconda3/lib/python3.11/site-packages/debugpy/_vendored/pydevd/_pydev_bundle/_pydev_calltip_util.py\": 1690905127.4288623, \"/Users/kyou/miniconda3/lib/python3.11/site-packages/debugpy/_vendored/pydevd/_pydevd_bundle/pydevd_safe_repr.py\": 1690905127.4466424, \"/Users/kyou/miniconda3/lib/python3.11/site-packages/debugpy/_vendored/pydevd/_pydevd_bundle/pydevd_resolver.py\": 1690905127.4463196, \"/Users/kyou/miniconda3/lib/python3.11/site-packages/debugpy/_vendored/pydevd/_pydevd_bundle/pydevd_extension_api.py\": 1690905127.4432442, \"/Users/kyou/miniconda3/lib/python3.11/site-packages/debugpy/_vendored/pydevd/_pydevd_bundle/pydevd_xml.py\": 1690905127.448874, \"/Users/kyou/miniconda3/lib/python3.11/site-packages/debugpy/_vendored/pydevd/_pydevd_bundle/pydevd_dont_trace.py\": 1690905127.4427888, \"/Users/kyou/miniconda3/lib/python3.11/site-packages/debugpy/_vendored/pydevd/_pydevd_frame_eval/vendored/__init__.py\": 1690905127.4559717, \"/Users/kyou/miniconda3/lib/python3.11/site-packages/debugpy/_vendored/pydevd/_pydevd_frame_eval/vendored/bytecode/flags.py\": 1690905127.457075, \"/Users/kyou/miniconda3/lib/python3.11/site-packages/debugpy/_vendored/pydevd/_pydevd_frame_eval/vendored/bytecode/instr.py\": 1690905127.4572604, \"/Users/kyou/miniconda3/lib/python3.11/site-packages/debugpy/_vendored/pydevd/_pydevd_frame_eval/vendored/bytecode/bytecode.py\": 1690905127.4565084, \"/Users/kyou/miniconda3/lib/python3.11/site-packages/debugpy/_vendored/pydevd/_pydevd_frame_eval/vendored/bytecode/concrete.py\": 1690905127.4569092, \"/Users/kyou/miniconda3/lib/python3.11/site-packages/debugpy/_vendored/pydevd/_pydevd_frame_eval/vendored/bytecode/cfg.py\": 1690905127.456702, \"/Users/kyou/miniconda3/lib/python3.11/site-packages/debugpy/_vendored/pydevd/_pydevd_frame_eval/vendored/bytecode/__init__.py\": 1690905127.456336, \"/Users/kyou/miniconda3/lib/python3.11/site-packages/debugpy/_vendored/pydevd/_pydevd_bundle/pydevd_bytecode_utils.py\": 1690905127.4350827, \"/Users/kyou/miniconda3/lib/python3.11/site-packages/debugpy/_vendored/pydevd/_pydevd_bundle/pydevd_cython.cpython-311-darwin.so\": 1690905135.5465684, \"/Users/kyou/miniconda3/lib/python3.11/site-packages/debugpy/_vendored/pydevd/_pydevd_bundle/pydevd_cython_wrapper.py\": 1690905127.4423103, \"/Users/kyou/miniconda3/lib/python3.11/site-packages/debugpy/_vendored/pydevd/_pydevd_bundle/pydevd_additional_thread_info.py\": 1690905127.4342299, \"/Users/kyou/miniconda3/lib/python3.11/site-packages/debugpy/_vendored/pydevd/_pydevd_bundle/pydevd_thread_lifecycle.py\": 1690905127.447518, \"/Users/kyou/miniconda3/lib/python3.11/site-packages/debugpy/_vendored/pydevd/_pydevd_bundle/pydevd_save_locals.py\": 1690905127.4467785, \"/Users/kyou/miniconda3/lib/python3.11/site-packages/debugpy/_vendored/pydevd/_pydev_bundle/pydev_monkey.py\": 1690905127.4315164, \"/Users/kyou/miniconda3/lib/python3.11/site-packages/debugpy/_vendored/pydevd/pydevd_tracing.py\": 1690905127.4284425, \"/Users/kyou/miniconda3/lib/python3.11/site-packages/debugpy/_vendored/pydevd/_pydevd_bundle/pydevd_collect_bytecode_info.py\": 1690905127.4354913, \"/Users/kyou/miniconda3/lib/python3.11/site-packages/debugpy/_vendored/pydevd/_pydevd_bundle/pydevd_daemon_thread.py\": 1690905127.4424787, \"/Users/kyou/miniconda3/lib/python3.11/site-packages/debugpy/_vendored/pydevd/_pydevd_bundle/pydevd_timeout.py\": 1690905127.447661, \"/Users/kyou/miniconda3/lib/python3.11/site-packages/debugpy/_vendored/pydevd/_pydevd_bundle/pydevd_vars.py\": 1690905127.4485836, \"/Users/kyou/miniconda3/lib/python3.11/site-packages/debugpy/_vendored/pydevd/_pydev_bundle/pydev_console_utils.py\": 1690905127.430349, \"/Users/kyou/miniconda3/lib/python3.11/site-packages/debugpy/_vendored/pydevd/_pydevd_bundle/pydevd_import_class.py\": 1690905127.4443095, \"/Users/kyou/miniconda3/lib/python3.11/site-packages/debugpy/_vendored/pydevd/_pydevd_bundle/pydevd_breakpoints.py\": 1690905127.4348676, \"/Users/kyou/miniconda3/lib/python3.11/site-packages/debugpy/_vendored/pydevd/_pydevd_bundle/pydevd_custom_frames.py\": 1690905127.4367027, \"/Users/kyou/miniconda3/lib/python3.11/site-packages/debugpy/_vendored/pydevd/_pydevd_bundle/pydevd_dont_trace_files.py\": 1690905127.4429436, \"/Users/kyou/miniconda3/lib/python3.11/site-packages/debugpy/_vendored/pydevd/_pydevd_bundle/pydevd_net_command.py\": 1690905127.4449005, \"/Users/kyou/miniconda3/lib/python3.11/site-packages/debugpy/_vendored/pydevd/_pydevd_bundle/pydevconsole_code.py\": 1690905127.4340298, \"/Users/kyou/miniconda3/lib/python3.11/site-packages/debugpy/_vendored/pydevd/_pydev_bundle/pydev_umd.py\": 1690905127.431917, \"/Users/kyou/miniconda3/lib/python3.11/site-packages/debugpy/_vendored/pydevd/pydevconsole.py\": 1690905127.4275556, \"/Users/kyou/miniconda3/lib/python3.11/site-packages/debugpy/_vendored/pydevd/_pydev_bundle/_pydev_completer.py\": 1690905127.4290113, \"/Users/kyou/miniconda3/lib/python3.11/site-packages/debugpy/_vendored/pydevd/_pydevd_bundle/pydevd_net_command_factory_xml.py\": 1690905127.44525, \"/Users/kyou/miniconda3/lib/python3.11/site-packages/debugpy/_vendored/pydevd/_pydevd_bundle/pydevd_frame.py\": 1690905127.4438386, \"/Users/kyou/miniconda3/lib/python3.11/site-packages/debugpy/_vendored/pydevd/_pydevd_bundle/pydevd_additional_thread_info_regular.py\": 1690905127.4344149, \"/Users/kyou/miniconda3/lib/python3.11/site-packages/debugpy/_vendored/pydevd/_pydevd_bundle/pydevd_trace_dispatch.py\": 1690905127.4479182, \"/Users/kyou/miniconda3/lib/python3.11/site-packages/debugpy/_vendored/pydevd/_pydevd_frame_eval/pydevd_frame_eval_main.py\": 1690905127.4526002, \"/Users/kyou/miniconda3/lib/python3.11/site-packages/debugpy/_vendored/pydevd/_pydevd_bundle/pydevd_source_mapping.py\": 1690905127.4470563, \"/Users/kyou/miniconda3/lib/python3.11/site-packages/debugpy/_vendored/pydevd/_pydevd_bundle/pydevd_concurrency_analyser/__init__.py\": 1690905127.451327, \"/Users/kyou/miniconda3/lib/python3.11/site-packages/debugpy/_vendored/pydevd/_pydevd_bundle/pydevd_concurrency_analyser/pydevd_thread_wrappers.py\": 1690905127.4517813, \"/Users/kyou/miniconda3/lib/python3.11/site-packages/debugpy/_vendored/pydevd/_pydevd_bundle/pydevd_concurrency_analyser/pydevd_concurrency_logger.py\": 1690905127.4515846, \"/Users/kyou/miniconda3/lib/python3.11/site-packages/debugpy/_vendored/pydevd/_pydevd_bundle/_debug_adapter/__init__.py\": 1690905127.4489849, \"/Users/kyou/miniconda3/lib/python3.11/site-packages/debugpy/_vendored/pydevd/_pydevd_bundle/_debug_adapter/pydevd_schema_log.py\": 1690905127.4511669, \"/Users/kyou/miniconda3/lib/python3.11/site-packages/debugpy/_vendored/pydevd/_pydevd_bundle/_debug_adapter/pydevd_base_schema.py\": 1690905127.4499183, \"/Users/kyou/miniconda3/lib/python3.11/site-packages/debugpy/_vendored/pydevd/_pydevd_bundle/_debug_adapter/pydevd_schema.py\": 1690905127.4509518, \"/Users/kyou/miniconda3/lib/python3.11/site-packages/debugpy/_vendored/pydevd/_pydevd_bundle/pydevd_reload.py\": 1690905127.446137, \"/Users/kyou/miniconda3/lib/python3.11/site-packages/debugpy/_vendored/pydevd/_pydev_bundle/fsnotify/__init__.py\": 1690905127.4322133, \"/Users/kyou/miniconda3/lib/python3.11/site-packages/debugpy/_vendored/pydevd/_pydevd_bundle/pydevd_console.py\": 1690905127.4363263, \"/Users/kyou/miniconda3/lib/python3.11/site-packages/debugpy/_vendored/pydevd/_pydevd_bundle/pydevd_comm.py\": 1690905127.4358113, \"/Users/kyou/miniconda3/lib/python3.11/site-packages/debugpy/_vendored/pydevd/_pydevd_bundle/pydevd_net_command_factory_json.py\": 1690905127.4450786, \"/Users/kyou/miniconda3/lib/python3.11/site-packages/debugpy/_vendored/pydevd/_pydevd_bundle/pydevd_api.py\": 1690905127.4347, \"/Users/kyou/miniconda3/lib/python3.11/site-packages/debugpy/_vendored/pydevd/_pydevd_bundle/pydevd_json_debug_options.py\": 1690905127.444731, \"/Users/kyou/miniconda3/lib/python3.11/site-packages/debugpy/_vendored/pydevd/_pydevd_bundle/pydevd_process_net_command_json.py\": 1690905127.4458227, \"/Users/kyou/miniconda3/lib/python3.11/site-packages/debugpy/_vendored/pydevd/_pydevd_bundle/pydevd_traceproperty.py\": 1690905127.4482245, \"/Users/kyou/miniconda3/lib/python3.11/site-packages/debugpy/_vendored/pydevd/_pydevd_bundle/pydevd_process_net_command.py\": 1690905127.4455807, \"/Users/kyou/miniconda3/lib/python3.11/site-packages/debugpy/_vendored/pydevd/_pydevd_bundle/pydevd_suspended_frames.py\": 1690905127.4473803, \"/Users/kyou/miniconda3/lib/python3.11/site-packages/debugpy/_vendored/pydevd/_pydevd_bundle/pydevd_trace_api.py\": 1690905127.4477878, \"/Users/kyou/miniconda3/lib/python3.11/site-packages/debugpy/_vendored/pydevd/pydevd_plugins/pydevd_line_validation.py\": 1690905127.4827456, \"/Users/kyou/miniconda3/lib/python3.11/site-packages/debugpy/_vendored/pydevd/pydevd_plugins/django_debug.py\": 1690905127.4823818, \"/Users/kyou/miniconda3/lib/python3.11/site-packages/debugpy/_vendored/pydevd/pydevd_plugins/jinja2_debug.py\": 1690905127.4825795, \"/Users/kyou/miniconda3/lib/python3.11/site-packages/debugpy/_vendored/pydevd/_pydevd_bundle/pydevd_plugin_utils.py\": 1690905127.4453802, \"/Users/kyou/miniconda3/lib/python3.11/site-packages/debugpy/_vendored/pydevd/pydevd_plugins/extensions/types/__init__.py\": 1690905127.4832275, \"/Users/kyou/miniconda3/lib/python3.11/site-packages/debugpy/_vendored/pydevd/pydevd_plugins/extensions/types/pydevd_helpers.py\": 1690905127.4833462, \"/Users/kyou/miniconda3/lib/python3.11/site-packages/debugpy/_vendored/pydevd/pydevd_plugins/extensions/types/pydevd_plugin_numpy_types.py\": 1690905127.4834757, \"/Users/kyou/miniconda3/lib/python3.11/site-packages/debugpy/_vendored/pydevd/pydevd_plugins/extensions/types/pydevd_plugin_pandas_types.py\": 1690905127.4835992, \"/Users/kyou/miniconda3/lib/python3.11/site-packages/debugpy/_vendored/pydevd/pydevd_plugins/extensions/types/pydevd_plugins_django_form_str.py\": 1690905127.4837139, \"/Users/kyou/miniconda3/lib/python3.11/site-packages/debugpy/_vendored/pydevd/pydevd.py\": 1690905127.4280522, \"/Users/kyou/miniconda3/lib/python3.11/site-packages/debugpy/_vendored/force_pydevd.py\": 1690905127.4267843, \"/Users/kyou/miniconda3/lib/python3.11/site-packages/debugpy/server/__init__.py\": 1690905127.4868925, \"/Users/kyou/miniconda3/lib/python3.11/site-packages/debugpy/adapter/__init__.py\": 1690905127.4838607, \"/Users/kyou/miniconda3/lib/python3.11/site-packages/debugpy/common/__init__.py\": 1690905127.4848814, \"/Users/kyou/miniconda3/lib/python3.11/site-packages/debugpy/common/json.py\": 1690905127.4850204, \"/Users/kyou/miniconda3/lib/python3.11/site-packages/debugpy/common/timestamp.py\": 1690905127.4858704, \"/Users/kyou/miniconda3/lib/python3.11/site-packages/debugpy/common/util.py\": 1690905127.486004, \"/Users/kyou/miniconda3/lib/python3.11/site-packages/debugpy/common/log.py\": 1690905127.4851577, \"/Users/kyou/miniconda3/lib/python3.11/site-packages/debugpy/common/sockets.py\": 1690905127.485647, \"/Users/kyou/miniconda3/lib/python3.11/site-packages/debugpy/server/api.py\": 1690905127.4874094, \"/Users/kyou/miniconda3/lib/python3.11/site-packages/ipykernel/debugger.py\": 1691121774.0714557, \"/Users/kyou/miniconda3/lib/python3.11/site-packages/packaging/__init__.py\": 1693575247.2357512, \"/Users/kyou/miniconda3/lib/python3.11/site-packages/packaging/_structures.py\": 1693575247.236681, \"/Users/kyou/miniconda3/lib/python3.11/site-packages/packaging/version.py\": 1693575247.2382762, \"/Users/kyou/miniconda3/lib/python3.11/site-packages/ipykernel/eventloops.py\": 1691121774.0718832, \"/Users/kyou/miniconda3/lib/python3.11/site-packages/IPython/core/payloadpage.py\": 1694181608.8608341, \"/Users/kyou/miniconda3/lib/python3.11/site-packages/ipykernel/displayhook.py\": 1691121774.0715904, \"/Users/kyou/miniconda3/lib/python3.11/site-packages/ipykernel/zmqshell.py\": 1691121774.0742593, \"/Users/kyou/miniconda3/lib/python3.11/site-packages/ipykernel/ipkernel.py\": 1691121774.072389, \"/Users/kyou/miniconda3/lib/python3.11/site-packages/ipykernel/parentpoller.py\": 1691121774.0734308, \"/Users/kyou/miniconda3/lib/python3.11/site-packages/ipykernel/kernelapp.py\": 1691121774.0727284, \"/Users/kyou/miniconda3/lib/python3.11/site-packages/IPython/core/completerlib.py\": 1694181608.8542695, \"/Users/kyou/miniconda3/lib/python3.11/importlib/abc.py\": 1688564785.7563794, \"/Users/kyou/miniconda3/lib/python3.11/site-packages/setuptools/_distutils/__init__.py\": 1684525084.0, \"/Users/kyou/miniconda3/lib/python3.11/site-packages/setuptools/_distutils/debug.py\": 1684525084.0, \"/Users/kyou/miniconda3/lib/python3.11/site-packages/setuptools/_distutils/errors.py\": 1684525084.0, \"/Users/kyou/miniconda3/lib/python3.11/site-packages/setuptools/_distutils/fancy_getopt.py\": 1684525084.0, \"/Users/kyou/miniconda3/lib/python3.11/site-packages/setuptools/_distutils/dep_util.py\": 1684525084.0, \"/Users/kyou/miniconda3/lib/python3.11/site-packages/setuptools/_distutils/_log.py\": 1684525084.0, \"/Users/kyou/miniconda3/lib/python3.11/site-packages/setuptools/_distutils/spawn.py\": 1684525084.0, \"/Users/kyou/miniconda3/lib/python3.11/site-packages/setuptools/_distutils/util.py\": 1684525084.0, \"/Users/kyou/miniconda3/lib/python3.11/site-packages/setuptools/_distutils/dist.py\": 1684525084.0, \"/Users/kyou/miniconda3/lib/python3.11/site-packages/setuptools/_distutils/dir_util.py\": 1684525084.0, \"/Users/kyou/miniconda3/lib/python3.11/site-packages/setuptools/_distutils/file_util.py\": 1684525084.0, \"/Users/kyou/miniconda3/lib/python3.11/lib-dynload/grp.cpython-311-darwin.so\": 1688564827.505357, \"/Users/kyou/miniconda3/lib/python3.11/site-packages/setuptools/_distutils/archive_util.py\": 1684525084.0, \"/Users/kyou/miniconda3/lib/python3.11/site-packages/setuptools/_distutils/cmd.py\": 1684525084.0, \"/Users/kyou/miniconda3/lib/python3.11/site-packages/setuptools/_distutils/config.py\": 1684525084.0, \"/Users/kyou/miniconda3/lib/python3.11/site-packages/setuptools/_distutils/extension.py\": 1684525084.0, \"/Users/kyou/miniconda3/lib/python3.11/site-packages/setuptools/_distutils/core.py\": 1684525084.0, \"/Users/kyou/miniconda3/lib/python3.11/site-packages/_distutils_hack/override.py\": 1684525084.0, \"/Users/kyou/miniconda3/lib/python3.11/site-packages/setuptools/warnings.py\": 1684525084.0, \"/Users/kyou/miniconda3/lib/python3.11/lib-dynload/_csv.cpython-311-darwin.so\": 1688564826.7485294, \"/Users/kyou/miniconda3/lib/python3.11/csv.py\": 1688564781.164632, \"/Users/kyou/miniconda3/lib/python3.11/importlib/metadata/_functools.py\": 1688564785.9153876, \"/Users/kyou/miniconda3/lib/python3.11/importlib/metadata/_text.py\": 1688564785.9439707, \"/Users/kyou/miniconda3/lib/python3.11/importlib/metadata/_adapters.py\": 1688564785.8988168, \"/Users/kyou/miniconda3/lib/python3.11/importlib/metadata/_meta.py\": 1688564785.935398, \"/Users/kyou/miniconda3/lib/python3.11/importlib/metadata/_collections.py\": 1688564785.907113, \"/Users/kyou/miniconda3/lib/python3.11/importlib/metadata/_itertools.py\": 1688564785.926969, \"/Users/kyou/miniconda3/lib/python3.11/importlib/metadata/__init__.py\": 1688564785.8900592, \"/Users/kyou/miniconda3/lib/python3.11/site-packages/setuptools/_importlib.py\": 1684525084.0, \"/Users/kyou/miniconda3/lib/python3.11/site-packages/setuptools/version.py\": 1684525084.0, \"/Users/kyou/miniconda3/lib/python3.11/site-packages/setuptools/_distutils/filelist.py\": 1684525084.0, \"/Users/kyou/miniconda3/lib/python3.11/site-packages/setuptools/monkey.py\": 1684525084.0, \"/Users/kyou/miniconda3/lib/python3.11/site-packages/setuptools/extension.py\": 1684525084.0, \"/Users/kyou/miniconda3/lib/python3.11/site-packages/setuptools/_distutils/log.py\": 1684525084.0, \"/Users/kyou/miniconda3/lib/python3.11/site-packages/setuptools/_distutils/command/__init__.py\": 1684525084.0, \"/Users/kyou/miniconda3/lib/python3.11/site-packages/setuptools/extern/__init__.py\": 1684525084.0, \"/Users/kyou/miniconda3/lib/python3.11/site-packages/setuptools/_vendor/__init__.py\": 1684525084.0, \"/Users/kyou/miniconda3/lib/python3.11/site-packages/setuptools/_vendor/packaging/__init__.py\": 1684525084.0, \"/Users/kyou/miniconda3/lib/python3.11/site-packages/setuptools/_vendor/ordered_set.py\": 1684525084.0, \"/Users/kyou/miniconda3/lib/python3.11/site-packages/setuptools/_vendor/more_itertools/recipes.py\": 1684525084.0, \"/Users/kyou/miniconda3/lib/python3.11/site-packages/setuptools/_vendor/more_itertools/more.py\": 1684525084.0, \"/Users/kyou/miniconda3/lib/python3.11/site-packages/setuptools/_vendor/more_itertools/__init__.py\": 1684525084.0, \"/Users/kyou/miniconda3/lib/python3.11/site-packages/setuptools/_distutils/command/bdist.py\": 1684525084.0, \"/Users/kyou/miniconda3/lib/python3.11/site-packages/setuptools/command/__init__.py\": 1684525084.0, \"/Users/kyou/miniconda3/lib/python3.11/site-packages/setuptools/windows_support.py\": 1684525084.0, \"/Users/kyou/miniconda3/lib/python3.11/site-packages/setuptools/errors.py\": 1684525084.0, \"/Users/kyou/miniconda3/lib/python3.11/site-packages/setuptools/_vendor/packaging/_elffile.py\": 1684525084.0, \"/Users/kyou/miniconda3/lib/python3.11/site-packages/setuptools/_vendor/packaging/_manylinux.py\": 1684525084.0, \"/Users/kyou/miniconda3/lib/python3.11/site-packages/setuptools/_vendor/packaging/_musllinux.py\": 1684525084.0, \"/Users/kyou/miniconda3/lib/python3.11/site-packages/setuptools/_vendor/packaging/tags.py\": 1684525084.0, \"/Users/kyou/miniconda3/lib/python3.11/site-packages/setuptools/_vendor/packaging/_structures.py\": 1684525084.0, \"/Users/kyou/miniconda3/lib/python3.11/site-packages/setuptools/_vendor/packaging/version.py\": 1684525084.0, \"/Users/kyou/miniconda3/lib/python3.11/site-packages/setuptools/_vendor/packaging/utils.py\": 1684525084.0, \"/Users/kyou/miniconda3/lib/python3.11/site-packages/setuptools/_vendor/packaging/specifiers.py\": 1684525084.0, \"/Users/kyou/miniconda3/lib/python3.11/site-packages/setuptools/_vendor/packaging/_tokenizer.py\": 1684525084.0, \"/Users/kyou/miniconda3/lib/python3.11/site-packages/setuptools/_vendor/packaging/_parser.py\": 1684525084.0, \"/Users/kyou/miniconda3/lib/python3.11/site-packages/setuptools/_vendor/packaging/markers.py\": 1684525084.0, \"/Users/kyou/miniconda3/lib/python3.11/site-packages/setuptools/_vendor/packaging/requirements.py\": 1684525084.0, \"/Users/kyou/miniconda3/lib/python3.11/site-packages/setuptools/_path.py\": 1684525084.0, \"/Users/kyou/miniconda3/lib/python3.11/site-packages/setuptools/config/expand.py\": 1684525084.0, \"/Users/kyou/miniconda3/lib/python3.11/site-packages/setuptools/config/setupcfg.py\": 1684525084.0, \"/Users/kyou/miniconda3/lib/python3.11/site-packages/setuptools/config/__init__.py\": 1684525084.0, \"/Users/kyou/miniconda3/lib/python3.11/email/_header_value_parser.py\": 1688564783.4145987, \"/Users/kyou/miniconda3/lib/python3.11/email/headerregistry.py\": 1688564783.5267322, \"/Users/kyou/miniconda3/lib/python3.11/site-packages/setuptools/config/_apply_pyprojecttoml.py\": 1684525084.0, \"/Users/kyou/miniconda3/lib/python3.11/site-packages/setuptools/config/pyprojecttoml.py\": 1684525084.0, \"/Users/kyou/miniconda3/lib/python3.11/site-packages/setuptools/discovery.py\": 1684525084.0, \"/Users/kyou/miniconda3/lib/python3.11/site-packages/setuptools/_vendor/jaraco/__init__.py\": 1684525084.0, \"/Users/kyou/miniconda3/lib/python3.11/site-packages/setuptools/_vendor/jaraco/functools.py\": 1684525084.0, \"/Users/kyou/miniconda3/lib/python3.11/site-packages/setuptools/_vendor/jaraco/context.py\": 1684525084.0, \"/Users/kyou/miniconda3/lib/python3.11/site-packages/setuptools/_vendor/jaraco/text/__init__.py\": 1684525084.0, \"/Users/kyou/miniconda3/lib/python3.11/site-packages/setuptools/_reqs.py\": 1684525084.0, \"/Users/kyou/miniconda3/lib/python3.11/site-packages/setuptools/_itertools.py\": 1684525084.0, \"/Users/kyou/miniconda3/lib/python3.11/site-packages/setuptools/_entry_points.py\": 1684525084.0, \"/Users/kyou/miniconda3/lib/python3.11/site-packages/setuptools/_normalization.py\": 1684525084.0, \"/Users/kyou/miniconda3/lib/python3.11/site-packages/setuptools/dist.py\": 1684525084.0, \"/Users/kyou/miniconda3/lib/python3.11/site-packages/setuptools/py34compat.py\": 1684525084.0, \"/Users/kyou/miniconda3/lib/python3.11/site-packages/setuptools/_imp.py\": 1684525084.0, \"/Users/kyou/miniconda3/lib/python3.11/site-packages/setuptools/depends.py\": 1684525084.0, \"/Users/kyou/miniconda3/lib/python3.11/site-packages/setuptools/logging.py\": 1684525084.0, \"/Users/kyou/miniconda3/lib/python3.11/site-packages/setuptools/msvc.py\": 1684525084.0, \"/Users/kyou/miniconda3/lib/python3.11/site-packages/setuptools/__init__.py\": 1684525084.0, \"/Users/kyou/miniconda3/lib/python3.11/site-packages/setuptools/_distutils/version.py\": 1684525084.0, \"/Users/kyou/miniconda3/lib/python3.11/ctypes/macholib/__init__.py\": 1688564782.7494044, \"/Users/kyou/miniconda3/lib/python3.11/ctypes/macholib/framework.py\": 1688564782.7863166, \"/Users/kyou/miniconda3/lib/python3.11/ctypes/macholib/dylib.py\": 1688564782.7645113, \"/Users/kyou/miniconda3/lib/python3.11/ctypes/macholib/dyld.py\": 1688564782.7567518, \"/Users/kyou/miniconda3/lib/python3.11/ctypes/util.py\": 1688564782.713469, \"/Users/kyou/miniconda3/lib/python3.11/site-packages/appnope/_nope.py\": 1677917863.0, \"/Users/kyou/miniconda3/lib/python3.11/site-packages/appnope/__init__.py\": 1677917863.0}\n"
     ]
    }
   ],
   "source": [
    "\n",
    "# imports\n",
    "import os\n",
    "import sys\n",
    "import types\n",
    "import json\n",
    "\n",
    "# figure size/format\n",
    "fig_width = 7\n",
    "fig_height = 5\n",
    "fig_format = 'retina'\n",
    "fig_dpi = 96\n",
    "\n",
    "# matplotlib defaults / format\n",
    "try:\n",
    "  import matplotlib.pyplot as plt\n",
    "  plt.rcParams['figure.figsize'] = (fig_width, fig_height)\n",
    "  plt.rcParams['figure.dpi'] = fig_dpi\n",
    "  plt.rcParams['savefig.dpi'] = fig_dpi\n",
    "  from IPython.display import set_matplotlib_formats\n",
    "  set_matplotlib_formats(fig_format)\n",
    "except Exception:\n",
    "  pass\n",
    "\n",
    "# plotly use connected mode\n",
    "try:\n",
    "  import plotly.io as pio\n",
    "  pio.renderers.default = \"notebook_connected\"\n",
    "except Exception:\n",
    "  pass\n",
    "\n",
    "# enable pandas latex repr when targeting pdfs\n",
    "try:\n",
    "  import pandas as pd\n",
    "  if fig_format == 'pdf':\n",
    "    pd.set_option('display.latex.repr', True)\n",
    "except Exception:\n",
    "  pass\n",
    "\n",
    "\n",
    "\n",
    "# output kernel dependencies\n",
    "kernel_deps = dict()\n",
    "for module in list(sys.modules.values()):\n",
    "  # Some modules play games with sys.modules (e.g. email/__init__.py\n",
    "  # in the standard library), and occasionally this can cause strange\n",
    "  # failures in getattr.  Just ignore anything that's not an ordinary\n",
    "  # module.\n",
    "  if not isinstance(module, types.ModuleType):\n",
    "    continue\n",
    "  path = getattr(module, \"__file__\", None)\n",
    "  if not path:\n",
    "    continue\n",
    "  if path.endswith(\".pyc\") or path.endswith(\".pyo\"):\n",
    "    path = path[:-1]\n",
    "  if not os.path.exists(path):\n",
    "    continue\n",
    "  kernel_deps[path] = os.stat(path).st_mtime\n",
    "print(json.dumps(kernel_deps))\n",
    "\n",
    "# set run_path if requested\n",
    "if r'/Users/kyou/Library/CloudStorage/Dropbox-Personal/kisungyou.github.io':\n",
    "  os.chdir(r'/Users/kyou/Library/CloudStorage/Dropbox-Personal/kisungyou.github.io')\n",
    "\n",
    "# reset state\n",
    "%reset\n",
    "\n",
    "def ojs_define(**kwargs):\n",
    "  import json\n",
    "  try:\n",
    "    # IPython 7.14 preferred import\n",
    "    from IPython.display import display, HTML\n",
    "  except:\n",
    "    from IPython.core.display import display, HTML\n",
    "\n",
    "  # do some minor magic for convenience when handling pandas\n",
    "  # dataframes\n",
    "  def convert(v):\n",
    "    try:\n",
    "      import pandas as pd\n",
    "    except ModuleNotFoundError: # don't do the magic when pandas is not available\n",
    "      return v\n",
    "    if type(v) == pd.Series:\n",
    "      v = pd.DataFrame(v)\n",
    "    if type(v) == pd.DataFrame:\n",
    "      j = json.loads(v.T.to_json(orient='split'))\n",
    "      return dict((k,v) for (k,v) in zip(j[\"index\"], j[\"data\"]))\n",
    "    else:\n",
    "      return v\n",
    "  \n",
    "  v = dict(contents=list(dict(name=key, value=convert(value)) for (key, value) in kwargs.items()))\n",
    "  display(HTML('<script type=\"ojs-define\">' + json.dumps(v) + '</script>'), metadata=dict(ojs_define = True))\n",
    "globals()[\"ojs_define\"] = ojs_define\n"
   ]
  },
  {
   "cell_type": "code",
   "execution_count": 2,
   "id": "software",
   "metadata": {},
   "outputs": [],
   "source": [
    "#| label: software\n",
    "#| output: asis\n",
    "import yaml\n",
    "from IPython.display import display, Markdown, HTML, Image\n",
    "def button(url, str, icon):\n",
    "    icon_base = icon[:2]\n",
    "    return f\"\"\"<a class=\"btn btn-outline-dark btn-sm\", href=\"{url}\" target=\"_blank\" rel=\"noopener noreferrer\">\n",
    "        <i class=\"{icon_base} {icon}\" role='img' aria-label='{str}'></i>\n",
    "        {str}\n",
    "    </a>\"\"\"\n",
    "yaml_data = yaml.safe_load(open(\"list_software.yaml\"))"
   ]
  },
  {
   "cell_type": "code",
   "execution_count": 3,
   "id": "geometry-topology",
   "metadata": {},
   "outputs": [
    {
     "data": {
      "text/markdown": [
       "#### `Riemann` {#Riemann}"
      ],
      "text/plain": [
       "<IPython.core.display.Markdown object>"
      ]
     },
     "metadata": {},
     "output_type": "display_data"
    },
    {
     "data": {
      "text/markdown": [
       "Learning with Data on Riemannian manifold\n"
      ],
      "text/plain": [
       "<IPython.core.display.Markdown object>"
      ]
     },
     "metadata": {},
     "output_type": "display_data"
    },
    {
     "data": {
      "text/html": [
       "<a class=\"btn btn-outline-dark btn-sm\", href=\"https://kisungyou.com/Riemann\" target=\"_blank\" rel=\"noopener noreferrer\">\n",
       "        <i class=\"bi bi-info\" role='img' aria-label='Website'></i>\n",
       "        Website\n",
       "    </a>  <a class=\"btn btn-outline-dark btn-sm\", href=\"https://github.com/kisungyou/Riemann\" target=\"_blank\" rel=\"noopener noreferrer\">\n",
       "        <i class=\"bi bi-github\" role='img' aria-label='View on Github'></i>\n",
       "        View on Github\n",
       "    </a>  <a class=\"btn btn-outline-dark btn-sm\", href=\"https://CRAN.R-project.org/package=Riemann\" target=\"_blank\" rel=\"noopener noreferrer\">\n",
       "        <i class=\"bi bi-box-seam\" role='img' aria-label='View on CRAN'></i>\n",
       "        View on CRAN\n",
       "    </a>"
      ],
      "text/plain": [
       "<IPython.core.display.HTML object>"
      ]
     },
     "metadata": {},
     "output_type": "display_data"
    },
    {
     "data": {
      "text/markdown": [
       "#### `RiemBase` {#RiemBase}"
      ],
      "text/plain": [
       "<IPython.core.display.Markdown object>"
      ]
     },
     "metadata": {},
     "output_type": "display_data"
    },
    {
     "data": {
      "text/markdown": [
       "Functions and C++ Headers for Computation on Manifolds\n"
      ],
      "text/plain": [
       "<IPython.core.display.Markdown object>"
      ]
     },
     "metadata": {},
     "output_type": "display_data"
    },
    {
     "data": {
      "text/html": [
       "<a class=\"btn btn-outline-dark btn-sm\", href=\"https://github.com/kisungyou/RiemBase\" target=\"_blank\" rel=\"noopener noreferrer\">\n",
       "        <i class=\"bi bi-github\" role='img' aria-label='View on Github'></i>\n",
       "        View on Github\n",
       "    </a>  <a class=\"btn btn-outline-dark btn-sm\", href=\"https://CRAN.R-project.org/package=RiemBase\" target=\"_blank\" rel=\"noopener noreferrer\">\n",
       "        <i class=\"bi bi-box-seam\" role='img' aria-label='View on CRAN'></i>\n",
       "        View on CRAN\n",
       "    </a>"
      ],
      "text/plain": [
       "<IPython.core.display.HTML object>"
      ]
     },
     "metadata": {},
     "output_type": "display_data"
    },
    {
     "data": {
      "text/markdown": [
       "#### `TDAkit` {#TDAkit}"
      ],
      "text/plain": [
       "<IPython.core.display.Markdown object>"
      ]
     },
     "metadata": {},
     "output_type": "display_data"
    },
    {
     "data": {
      "text/markdown": [
       "Toolkit for Topological Data Analysis\n"
      ],
      "text/plain": [
       "<IPython.core.display.Markdown object>"
      ]
     },
     "metadata": {},
     "output_type": "display_data"
    },
    {
     "data": {
      "text/html": [
       "<a class=\"btn btn-outline-dark btn-sm\", href=\"https://github.com/kisungyou/TDAkit\" target=\"_blank\" rel=\"noopener noreferrer\">\n",
       "        <i class=\"bi bi-github\" role='img' aria-label='View on Github'></i>\n",
       "        View on Github\n",
       "    </a>  <a class=\"btn btn-outline-dark btn-sm\", href=\"https://CRAN.R-project.org/package=TDAkit\" target=\"_blank\" rel=\"noopener noreferrer\">\n",
       "        <i class=\"bi bi-box-seam\" role='img' aria-label='View on CRAN'></i>\n",
       "        View on CRAN\n",
       "    </a>"
      ],
      "text/plain": [
       "<IPython.core.display.HTML object>"
      ]
     },
     "metadata": {},
     "output_type": "display_data"
    }
   ],
   "source": [
    "#| label: geometry-topology\n",
    "#| output: asis\n",
    "data_part = []\n",
    "for data in yaml_data[::-1]:\n",
    "  if data[\"topic\"] == \"topology\" or data[\"topic\"] == \"geometry\":\n",
    "    data_part.append(data)\n",
    "data_part.sort(key=lambda k : k['title'].lower())\n",
    "\n",
    "for data in data_part:\n",
    "  display(Markdown(\"#### `\" + data[\"title\"] + \"` {#\" + data[\"title\"] + \"}\"))\n",
    "  display(Markdown(data[\"description\"]))\n",
    "  buttons = []\n",
    "  if \"website\" in data:\n",
    "      buttons.append(button(data['website'], \"Website\", \"bi-info\"))\n",
    "  if \"github\" in data:\n",
    "      buttons.append(button(data['github'], \"View on Github\", \"bi-github\"))\n",
    "  if \"CRAN\" in data:\n",
    "      buttons.append(button(data['CRAN'], \"View on CRAN\", \"bi-box-seam\"))\n",
    "  display(HTML(\"  \".join(buttons)))"
   ]
  },
  {
   "cell_type": "code",
   "execution_count": 4,
   "id": "network",
   "metadata": {},
   "outputs": [
    {
     "data": {
      "text/markdown": [
       "#### `graphon` {#graphon}"
      ],
      "text/plain": [
       "<IPython.core.display.Markdown object>"
      ]
     },
     "metadata": {},
     "output_type": "display_data"
    },
    {
     "data": {
      "text/markdown": [
       "A Collection of Graphon Estimation Methods\n"
      ],
      "text/plain": [
       "<IPython.core.display.Markdown object>"
      ]
     },
     "metadata": {},
     "output_type": "display_data"
    },
    {
     "data": {
      "text/html": [
       "<a class=\"btn btn-outline-dark btn-sm\", href=\"https://github.com/kisungyou/graphon\" target=\"_blank\" rel=\"noopener noreferrer\">\n",
       "        <i class=\"bi bi-github\" role='img' aria-label='View on Github'></i>\n",
       "        View on Github\n",
       "    </a>  <a class=\"btn btn-outline-dark btn-sm\", href=\"https://CRAN.R-project.org/package=graphon\" target=\"_blank\" rel=\"noopener noreferrer\">\n",
       "        <i class=\"bi bi-box-seam\" role='img' aria-label='View on CRAN'></i>\n",
       "        View on CRAN\n",
       "    </a>"
      ],
      "text/plain": [
       "<IPython.core.display.HTML object>"
      ]
     },
     "metadata": {},
     "output_type": "display_data"
    },
    {
     "data": {
      "text/markdown": [
       "#### `NetworkDistance` {#NetworkDistance}"
      ],
      "text/plain": [
       "<IPython.core.display.Markdown object>"
      ]
     },
     "metadata": {},
     "output_type": "display_data"
    },
    {
     "data": {
      "text/markdown": [
       "Distance Measures for Networks\n"
      ],
      "text/plain": [
       "<IPython.core.display.Markdown object>"
      ]
     },
     "metadata": {},
     "output_type": "display_data"
    },
    {
     "data": {
      "text/html": [
       "<a class=\"btn btn-outline-dark btn-sm\", href=\"https://github.com/kisungyou/NetworkDistance\" target=\"_blank\" rel=\"noopener noreferrer\">\n",
       "        <i class=\"bi bi-github\" role='img' aria-label='View on Github'></i>\n",
       "        View on Github\n",
       "    </a>  <a class=\"btn btn-outline-dark btn-sm\", href=\"https://CRAN.R-project.org/package=NetworkDistance\" target=\"_blank\" rel=\"noopener noreferrer\">\n",
       "        <i class=\"bi bi-box-seam\" role='img' aria-label='View on CRAN'></i>\n",
       "        View on CRAN\n",
       "    </a>"
      ],
      "text/plain": [
       "<IPython.core.display.HTML object>"
      ]
     },
     "metadata": {},
     "output_type": "display_data"
    }
   ],
   "source": [
    "#| label: network\n",
    "#| output: asis\n",
    "data_part = []\n",
    "for data in yaml_data[::-1]:\n",
    "  if data[\"topic\"] == \"network\":\n",
    "    data_part.append(data)\n",
    "data_part.sort(key=lambda k : k['title'].lower())\n",
    "\n",
    "for data in data_part:\n",
    "  display(Markdown(\"#### `\" + data[\"title\"] + \"` {#\" + data[\"title\"] + \"}\"))\n",
    "  display(Markdown(data[\"description\"]))\n",
    "  buttons = []\n",
    "  if \"website\" in data:\n",
    "      buttons.append(button(data['website'], \"Website\", \"bi-info\"))\n",
    "  if \"github\" in data:\n",
    "      buttons.append(button(data['github'], \"View on Github\", \"bi-github\"))\n",
    "  if \"CRAN\" in data:\n",
    "      buttons.append(button(data['CRAN'], \"View on CRAN\", \"bi-box-seam\"))\n",
    "  display(HTML(\"  \".join(buttons)))"
   ]
  },
  {
   "cell_type": "code",
   "execution_count": 5,
   "id": "statistical-inference",
   "metadata": {},
   "outputs": [
    {
     "data": {
      "text/markdown": [
       "#### `CovTools` {#CovTools}"
      ],
      "text/plain": [
       "<IPython.core.display.Markdown object>"
      ]
     },
     "metadata": {},
     "output_type": "display_data"
    },
    {
     "data": {
      "text/markdown": [
       "Statistical Tools for Covariance Analysis\n"
      ],
      "text/plain": [
       "<IPython.core.display.Markdown object>"
      ]
     },
     "metadata": {},
     "output_type": "display_data"
    },
    {
     "data": {
      "text/html": [
       "<a class=\"btn btn-outline-dark btn-sm\", href=\"https://github.com/kisungyou/CovTools\" target=\"_blank\" rel=\"noopener noreferrer\">\n",
       "        <i class=\"bi bi-github\" role='img' aria-label='View on Github'></i>\n",
       "        View on Github\n",
       "    </a>  <a class=\"btn btn-outline-dark btn-sm\", href=\"https://CRAN.R-project.org/package=CovTools\" target=\"_blank\" rel=\"noopener noreferrer\">\n",
       "        <i class=\"bi bi-box-seam\" role='img' aria-label='View on CRAN'></i>\n",
       "        View on CRAN\n",
       "    </a>"
      ],
      "text/plain": [
       "<IPython.core.display.HTML object>"
      ]
     },
     "metadata": {},
     "output_type": "display_data"
    },
    {
     "data": {
      "text/markdown": [
       "#### `filling` {#filling}"
      ],
      "text/plain": [
       "<IPython.core.display.Markdown object>"
      ]
     },
     "metadata": {},
     "output_type": "display_data"
    },
    {
     "data": {
      "text/markdown": [
       "Matrix Completion, Imputation, and Inpainting Methods\n"
      ],
      "text/plain": [
       "<IPython.core.display.Markdown object>"
      ]
     },
     "metadata": {},
     "output_type": "display_data"
    },
    {
     "data": {
      "text/html": [
       "<a class=\"btn btn-outline-dark btn-sm\", href=\"https://github.com/kisungyou/filling\" target=\"_blank\" rel=\"noopener noreferrer\">\n",
       "        <i class=\"bi bi-github\" role='img' aria-label='View on Github'></i>\n",
       "        View on Github\n",
       "    </a>  <a class=\"btn btn-outline-dark btn-sm\", href=\"https://CRAN.R-project.org/package=filling\" target=\"_blank\" rel=\"noopener noreferrer\">\n",
       "        <i class=\"bi bi-box-seam\" role='img' aria-label='View on CRAN'></i>\n",
       "        View on CRAN\n",
       "    </a>"
      ],
      "text/plain": [
       "<IPython.core.display.HTML object>"
      ]
     },
     "metadata": {},
     "output_type": "display_data"
    },
    {
     "data": {
      "text/markdown": [
       "#### `Rdimtools` {#Rdimtools}"
      ],
      "text/plain": [
       "<IPython.core.display.Markdown object>"
      ]
     },
     "metadata": {},
     "output_type": "display_data"
    },
    {
     "data": {
      "text/markdown": [
       "Dimension Reduction and Estimation Methods\n"
      ],
      "text/plain": [
       "<IPython.core.display.Markdown object>"
      ]
     },
     "metadata": {},
     "output_type": "display_data"
    },
    {
     "data": {
      "text/html": [
       "<a class=\"btn btn-outline-dark btn-sm\", href=\"https://kisungyou.com/Rdimtools\" target=\"_blank\" rel=\"noopener noreferrer\">\n",
       "        <i class=\"bi bi-info\" role='img' aria-label='Website'></i>\n",
       "        Website\n",
       "    </a>  <a class=\"btn btn-outline-dark btn-sm\", href=\"https://github.com/kisungyou/Rdimtools\" target=\"_blank\" rel=\"noopener noreferrer\">\n",
       "        <i class=\"bi bi-github\" role='img' aria-label='View on Github'></i>\n",
       "        View on Github\n",
       "    </a>  <a class=\"btn btn-outline-dark btn-sm\", href=\"https://CRAN.R-project.org/package=Rdimtools\" target=\"_blank\" rel=\"noopener noreferrer\">\n",
       "        <i class=\"bi bi-box-seam\" role='img' aria-label='View on CRAN'></i>\n",
       "        View on CRAN\n",
       "    </a>"
      ],
      "text/plain": [
       "<IPython.core.display.HTML object>"
      ]
     },
     "metadata": {},
     "output_type": "display_data"
    },
    {
     "data": {
      "text/markdown": [
       "#### `SBmedian` {#SBmedian}"
      ],
      "text/plain": [
       "<IPython.core.display.Markdown object>"
      ]
     },
     "metadata": {},
     "output_type": "display_data"
    },
    {
     "data": {
      "text/markdown": [
       "Scalable Bayes with Median of Subset Posteriors\n"
      ],
      "text/plain": [
       "<IPython.core.display.Markdown object>"
      ]
     },
     "metadata": {},
     "output_type": "display_data"
    },
    {
     "data": {
      "text/html": [
       "<a class=\"btn btn-outline-dark btn-sm\", href=\"https://github.com/kisungyou/SBmedian\" target=\"_blank\" rel=\"noopener noreferrer\">\n",
       "        <i class=\"bi bi-github\" role='img' aria-label='View on Github'></i>\n",
       "        View on Github\n",
       "    </a>  <a class=\"btn btn-outline-dark btn-sm\", href=\"https://CRAN.R-project.org/package=SBmedian\" target=\"_blank\" rel=\"noopener noreferrer\">\n",
       "        <i class=\"bi bi-box-seam\" role='img' aria-label='View on CRAN'></i>\n",
       "        View on CRAN\n",
       "    </a>"
      ],
      "text/plain": [
       "<IPython.core.display.HTML object>"
      ]
     },
     "metadata": {},
     "output_type": "display_data"
    },
    {
     "data": {
      "text/markdown": [
       "#### `SHT` {#SHT}"
      ],
      "text/plain": [
       "<IPython.core.display.Markdown object>"
      ]
     },
     "metadata": {},
     "output_type": "display_data"
    },
    {
     "data": {
      "text/markdown": [
       "Statistical Hypothesis Testing Toolbox\n"
      ],
      "text/plain": [
       "<IPython.core.display.Markdown object>"
      ]
     },
     "metadata": {},
     "output_type": "display_data"
    },
    {
     "data": {
      "text/html": [
       "<a class=\"btn btn-outline-dark btn-sm\", href=\"https://kisungyou.com/SHT\" target=\"_blank\" rel=\"noopener noreferrer\">\n",
       "        <i class=\"bi bi-info\" role='img' aria-label='Website'></i>\n",
       "        Website\n",
       "    </a>  <a class=\"btn btn-outline-dark btn-sm\", href=\"https://github.com/kisungyou/SHT\" target=\"_blank\" rel=\"noopener noreferrer\">\n",
       "        <i class=\"bi bi-github\" role='img' aria-label='View on Github'></i>\n",
       "        View on Github\n",
       "    </a>  <a class=\"btn btn-outline-dark btn-sm\", href=\"https://CRAN.R-project.org/package=SHT\" target=\"_blank\" rel=\"noopener noreferrer\">\n",
       "        <i class=\"bi bi-box-seam\" role='img' aria-label='View on CRAN'></i>\n",
       "        View on CRAN\n",
       "    </a>"
      ],
      "text/plain": [
       "<IPython.core.display.HTML object>"
      ]
     },
     "metadata": {},
     "output_type": "display_data"
    },
    {
     "data": {
      "text/markdown": [
       "#### `T4cluster` {#T4cluster}"
      ],
      "text/plain": [
       "<IPython.core.display.Markdown object>"
      ]
     },
     "metadata": {},
     "output_type": "display_data"
    },
    {
     "data": {
      "text/markdown": [
       "Tools for Cluster Analysis\n"
      ],
      "text/plain": [
       "<IPython.core.display.Markdown object>"
      ]
     },
     "metadata": {},
     "output_type": "display_data"
    },
    {
     "data": {
      "text/html": [
       "<a class=\"btn btn-outline-dark btn-sm\", href=\"https://kisungyou.com/T4cluster\" target=\"_blank\" rel=\"noopener noreferrer\">\n",
       "        <i class=\"bi bi-info\" role='img' aria-label='Website'></i>\n",
       "        Website\n",
       "    </a>  <a class=\"btn btn-outline-dark btn-sm\", href=\"https://github.com/kisungyou/T4cluster\" target=\"_blank\" rel=\"noopener noreferrer\">\n",
       "        <i class=\"bi bi-github\" role='img' aria-label='View on Github'></i>\n",
       "        View on Github\n",
       "    </a>  <a class=\"btn btn-outline-dark btn-sm\", href=\"https://CRAN.R-project.org/package=T4cluster\" target=\"_blank\" rel=\"noopener noreferrer\">\n",
       "        <i class=\"bi bi-box-seam\" role='img' aria-label='View on CRAN'></i>\n",
       "        View on CRAN\n",
       "    </a>"
      ],
      "text/plain": [
       "<IPython.core.display.HTML object>"
      ]
     },
     "metadata": {},
     "output_type": "display_data"
    }
   ],
   "source": [
    "#| label: statistical-inference\n",
    "#| output: asis\n",
    "\n",
    "data_part = []\n",
    "for data in yaml_data[::-1]:\n",
    "  if data[\"topic\"] == \"statistical-inference\":\n",
    "    data_part.append(data)\n",
    "data_part.sort(key=lambda k : k['title'].lower())\n",
    "\n",
    "for data in data_part:\n",
    "  display(Markdown(\"#### `\" + data[\"title\"] + \"` {#\" + data[\"title\"] + \"}\"))\n",
    "  display(Markdown(data[\"description\"]))\n",
    "  buttons = []\n",
    "  if \"website\" in data:\n",
    "      buttons.append(button(data['website'], \"Website\", \"bi-info\"))\n",
    "  if \"github\" in data:\n",
    "      buttons.append(button(data['github'], \"View on Github\", \"bi-github\"))\n",
    "  if \"CRAN\" in data:\n",
    "      buttons.append(button(data['CRAN'], \"View on CRAN\", \"bi-box-seam\"))\n",
    "  display(HTML(\"  \".join(buttons)))"
   ]
  },
  {
   "cell_type": "code",
   "execution_count": 6,
   "id": "opt-applied",
   "metadata": {},
   "outputs": [
    {
     "data": {
      "text/markdown": [
       "#### `maotai` {#maotai}"
      ],
      "text/plain": [
       "<IPython.core.display.Markdown object>"
      ]
     },
     "metadata": {},
     "output_type": "display_data"
    },
    {
     "data": {
      "text/markdown": [
       "Tools for Matrix Algebra, Optimization and Inference\n"
      ],
      "text/plain": [
       "<IPython.core.display.Markdown object>"
      ]
     },
     "metadata": {},
     "output_type": "display_data"
    },
    {
     "data": {
      "text/html": [
       "<a class=\"btn btn-outline-dark btn-sm\", href=\"https://kisungyou.com/maotai\" target=\"_blank\" rel=\"noopener noreferrer\">\n",
       "        <i class=\"bi bi-info\" role='img' aria-label='Website'></i>\n",
       "        Website\n",
       "    </a>  <a class=\"btn btn-outline-dark btn-sm\", href=\"https://github.com/kisungyou/maotai\" target=\"_blank\" rel=\"noopener noreferrer\">\n",
       "        <i class=\"bi bi-github\" role='img' aria-label='View on Github'></i>\n",
       "        View on Github\n",
       "    </a>  <a class=\"btn btn-outline-dark btn-sm\", href=\"https://CRAN.R-project.org/package=maotai\" target=\"_blank\" rel=\"noopener noreferrer\">\n",
       "        <i class=\"bi bi-box-seam\" role='img' aria-label='View on CRAN'></i>\n",
       "        View on CRAN\n",
       "    </a>"
      ],
      "text/plain": [
       "<IPython.core.display.HTML object>"
      ]
     },
     "metadata": {},
     "output_type": "display_data"
    },
    {
     "data": {
      "text/markdown": [
       "#### `Rlinsolve` {#Rlinsolve}"
      ],
      "text/plain": [
       "<IPython.core.display.Markdown object>"
      ]
     },
     "metadata": {},
     "output_type": "display_data"
    },
    {
     "data": {
      "text/markdown": [
       "Iterative Solvers for (Sparse) Linear System of Equations\n"
      ],
      "text/plain": [
       "<IPython.core.display.Markdown object>"
      ]
     },
     "metadata": {},
     "output_type": "display_data"
    },
    {
     "data": {
      "text/html": [
       "<a class=\"btn btn-outline-dark btn-sm\", href=\"https://github.com/kisungyou/Rlinsolve\" target=\"_blank\" rel=\"noopener noreferrer\">\n",
       "        <i class=\"bi bi-github\" role='img' aria-label='View on Github'></i>\n",
       "        View on Github\n",
       "    </a>  <a class=\"btn btn-outline-dark btn-sm\", href=\"https://CRAN.R-project.org/package=Rlinsolve\" target=\"_blank\" rel=\"noopener noreferrer\">\n",
       "        <i class=\"bi bi-box-seam\" role='img' aria-label='View on CRAN'></i>\n",
       "        View on CRAN\n",
       "    </a>"
      ],
      "text/plain": [
       "<IPython.core.display.HTML object>"
      ]
     },
     "metadata": {},
     "output_type": "display_data"
    },
    {
     "data": {
      "text/markdown": [
       "#### `T4transport` {#T4transport}"
      ],
      "text/plain": [
       "<IPython.core.display.Markdown object>"
      ]
     },
     "metadata": {},
     "output_type": "display_data"
    },
    {
     "data": {
      "text/markdown": [
       "Tools for Computational Optimal Transport\n"
      ],
      "text/plain": [
       "<IPython.core.display.Markdown object>"
      ]
     },
     "metadata": {},
     "output_type": "display_data"
    },
    {
     "data": {
      "text/html": [
       "<a class=\"btn btn-outline-dark btn-sm\", href=\"https://kisungyou.com/T4transport\" target=\"_blank\" rel=\"noopener noreferrer\">\n",
       "        <i class=\"bi bi-info\" role='img' aria-label='Website'></i>\n",
       "        Website\n",
       "    </a>  <a class=\"btn btn-outline-dark btn-sm\", href=\"https://github.com/kisungyou/T4transport\" target=\"_blank\" rel=\"noopener noreferrer\">\n",
       "        <i class=\"bi bi-github\" role='img' aria-label='View on Github'></i>\n",
       "        View on Github\n",
       "    </a>  <a class=\"btn btn-outline-dark btn-sm\", href=\"https://CRAN.R-project.org/package=T4transport\" target=\"_blank\" rel=\"noopener noreferrer\">\n",
       "        <i class=\"bi bi-box-seam\" role='img' aria-label='View on CRAN'></i>\n",
       "        View on CRAN\n",
       "    </a>"
      ],
      "text/plain": [
       "<IPython.core.display.HTML object>"
      ]
     },
     "metadata": {},
     "output_type": "display_data"
    },
    {
     "data": {
      "text/markdown": [
       "#### `tvR` {#tvR}"
      ],
      "text/plain": [
       "<IPython.core.display.Markdown object>"
      ]
     },
     "metadata": {},
     "output_type": "display_data"
    },
    {
     "data": {
      "text/markdown": [
       "Total Variation Regularization for Signals and Images\n"
      ],
      "text/plain": [
       "<IPython.core.display.Markdown object>"
      ]
     },
     "metadata": {},
     "output_type": "display_data"
    },
    {
     "data": {
      "text/html": [
       "<a class=\"btn btn-outline-dark btn-sm\", href=\"https://github.com/kisungyou/tvR\" target=\"_blank\" rel=\"noopener noreferrer\">\n",
       "        <i class=\"bi bi-github\" role='img' aria-label='View on Github'></i>\n",
       "        View on Github\n",
       "    </a>  <a class=\"btn btn-outline-dark btn-sm\", href=\"https://CRAN.R-project.org/package=tvR\" target=\"_blank\" rel=\"noopener noreferrer\">\n",
       "        <i class=\"bi bi-box-seam\" role='img' aria-label='View on CRAN'></i>\n",
       "        View on CRAN\n",
       "    </a>"
      ],
      "text/plain": [
       "<IPython.core.display.HTML object>"
      ]
     },
     "metadata": {},
     "output_type": "display_data"
    }
   ],
   "source": [
    "#| label: opt-applied\n",
    "#| output: asis\n",
    "data_part = []\n",
    "for data in yaml_data[::-1]:\n",
    "  if data[\"topic\"] == \"opt-applied\":\n",
    "    data_part.append(data)\n",
    "data_part.sort(key=lambda k : k['title'].lower())\n",
    "\n",
    "for data in data_part:\n",
    "  display(Markdown(\"#### `\" + data[\"title\"] + \"` {#\" + data[\"title\"] + \"}\"))\n",
    "  display(Markdown(data[\"description\"]))\n",
    "  buttons = []\n",
    "  if \"website\" in data:\n",
    "      buttons.append(button(data['website'], \"Website\", \"bi-info\"))\n",
    "  if \"github\" in data:\n",
    "      buttons.append(button(data['github'], \"View on Github\", \"bi-github\"))\n",
    "  if \"CRAN\" in data:\n",
    "      buttons.append(button(data['CRAN'], \"View on CRAN\", \"bi-box-seam\"))\n",
    "  display(HTML(\"  \".join(buttons)))"
   ]
  }
 ],
 "metadata": {
  "kernelspec": {
   "display_name": "Python 3 (ipykernel)",
   "language": "python",
   "name": "python3"
  },
  "language_info": {
   "codemirror_mode": {
    "name": "ipython",
    "version": 3
   },
   "file_extension": ".py",
   "mimetype": "text/x-python",
   "name": "python",
   "nbconvert_exporter": "python",
   "pygments_lexer": "ipython3",
   "version": "3.11.4"
  }
 },
 "nbformat": 4,
 "nbformat_minor": 5
}